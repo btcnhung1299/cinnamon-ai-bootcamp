{
 "cells": [
  {
   "cell_type": "code",
   "execution_count": 1,
   "metadata": {},
   "outputs": [],
   "source": [
    "import numpy as np\n",
    "from sklearn import datasets\n",
    "from sklearn.datasets import make_spd_matrix\n",
    "from sklearn.model_selection import train_test_split\n",
    "from sklearn.cluster import KMeans\n",
    "from scipy.stats import multivariate_normal"
   ]
  },
  {
   "cell_type": "code",
   "execution_count": 145,
   "metadata": {},
   "outputs": [],
   "source": [
    "class GaussianMixture:\n",
    "\n",
    "    def __init__(self, n_components=1, tol=0.001, init_params='random', max_iter=100):\n",
    "        assert n_components > 0\n",
    "        assert tol != 0\n",
    "        assert init_params in {'random', 'kmeans'}\n",
    "        assert max_iter > 0\n",
    "        \n",
    "        self.n_components = n_components\n",
    "        self.tol = tol\n",
    "        self.max_iter = max_iter\n",
    "        self.init_params = init_params\n",
    "          \n",
    "    def __assertion(self, X):\n",
    "        N, D = X.shape\n",
    "        assert self.weights.shape == (self.n_components, )\n",
    "        assert self.means.shape == (self.n_components, D)\n",
    "        assert self.covs.shape == (self.n_components, D, D)\n",
    "            \n",
    "    def __init_params(self, X):\n",
    "        N, D = X.shape\n",
    "        \n",
    "        # Responsibilities are initialized randomly\n",
    "        if self.init_params == 'random':\n",
    "            self.means = np.random.choice(X.flatten(), size=(self.n_components, D))\n",
    "        \n",
    "        # Responsibilities are initialized using KMeans\n",
    "        elif self.init_params == 'kmeans':\n",
    "            kmeans = KMeans(n_clusters=self.n_components, tol=self.tol, max_iter=self.max_iter)\n",
    "            kmeans.fit(X)\n",
    "            self.means = kmeans.cluster_centers_\n",
    "        \n",
    "        self.weights = np.ones(self.n_components) / self.n_components\n",
    "        self.covs = np.array([make_spd_matrix(D) for _ in range(self.n_components)])\n",
    "        self.__assertion(X)\n",
    "    \n",
    "    def predict_prob(self, X):\n",
    "        return np.array([multivariate_normal.pdf(X, self.means[k], self.covs[k], allow_singular=True) * \\\n",
    "                         self.weights[k] for k in range(self.n_components)])\n",
    "    \n",
    "    def __expectation(self, X):\n",
    "        N, D = X.shape\n",
    "        self.probs = self.predict_prob(X)\n",
    "        self.probs /= np.sum(self.probs, axis=0)\n",
    "        assert self.probs.shape == (self.n_components, N)        \n",
    "        \n",
    "    def __maximization(self, X):\n",
    "        N, D = X.shape     \n",
    "        \n",
    "        for k in range(self.n_components):\n",
    "            k_raised_prob = self.probs[k].reshape(N, 1)        \n",
    "            k_total_prob = np.sum(self.probs[k])\n",
    "            self.weights[k] = k_total_prob / N\n",
    "            self.means[k] = np.sum(k_raised_prob * X, axis=0) / k_total_prob           \n",
    "            diff_k = (X - self.means[k])\n",
    "            self.covs[k] = np.dot((k_raised_prob * diff_k).T, diff_k) / k_total_prob\n",
    "        \n",
    "        self.__assertion(X)\n",
    "    \n",
    "    def __em(self, X):\n",
    "        self.__expectation(X)\n",
    "        self.__maximization(X)  \n",
    "    \n",
    "    def fit(self, X):\n",
    "        self.__init_params(X)\n",
    "        for _ in range(self.max_iter):\n",
    "            self.__em(X)\n",
    "    \n",
    "    def predict(self, X):\n",
    "        return np.argmax(self.predict_prob(X), axis=0).reshape(-1, 1)\n",
    "         "
   ]
  },
  {
   "cell_type": "code",
   "execution_count": 170,
   "metadata": {},
   "outputs": [],
   "source": [
    "gmm = GaussianMixture(n_components=2, init_params='kmeans')\n",
    "X = cardio_data['X']\n",
    "y = cardio_data['y']\n",
    "X_train, X_test, y_train, y_test = train_test_split(X, y, test_size=.1)\n",
    "gmm.fit(X_train)\n",
    "y_predict = gmm.predict(X_test)"
   ]
  },
  {
   "cell_type": "code",
   "execution_count": 154,
   "metadata": {},
   "outputs": [],
   "source": []
  },
  {
   "cell_type": "code",
   "execution_count": 149,
   "metadata": {},
   "outputs": [],
   "source": [
    "from sklearn.metrics import classification_report"
   ]
  },
  {
   "cell_type": "code",
   "execution_count": 171,
   "metadata": {},
   "outputs": [
    {
     "name": "stdout",
     "output_type": "stream",
     "text": [
      "              precision    recall  f1-score   support\n",
      "\n",
      "         0.0       0.97      0.85      0.90       168\n",
      "         1.0       0.30      0.69      0.42        16\n",
      "\n",
      "    accuracy                           0.83       184\n",
      "   macro avg       0.63      0.77      0.66       184\n",
      "weighted avg       0.91      0.83      0.86       184\n",
      "\n"
     ]
    }
   ],
   "source": [
    "print(classification_report(y_test, y_predict))"
   ]
  },
  {
   "cell_type": "code",
   "execution_count": 116,
   "metadata": {},
   "outputs": [],
   "source": [
    "cardio_data = loadmat('cardio.mat')"
   ]
  },
  {
   "cell_type": "code",
   "execution_count": 123,
   "metadata": {},
   "outputs": [],
   "source": [
    "import pandas as pd\n",
    "data = pd.DataFrame(cardio_data['X'])"
   ]
  },
  {
   "cell_type": "code",
   "execution_count": 130,
   "metadata": {},
   "outputs": [
    {
     "data": {
      "text/plain": [
       "0"
      ]
     },
     "execution_count": 130,
     "metadata": {},
     "output_type": "execute_result"
    }
   ],
   "source": [
    "(data < -10 ** 9).any().sum()"
   ]
  }
 ],
 "metadata": {
  "kernelspec": {
   "display_name": "Python 3",
   "language": "python",
   "name": "python3"
  },
  "language_info": {
   "codemirror_mode": {
    "name": "ipython",
    "version": 3
   },
   "file_extension": ".py",
   "mimetype": "text/x-python",
   "name": "python",
   "nbconvert_exporter": "python",
   "pygments_lexer": "ipython3",
   "version": "3.7.3"
  }
 },
 "nbformat": 4,
 "nbformat_minor": 4
}
