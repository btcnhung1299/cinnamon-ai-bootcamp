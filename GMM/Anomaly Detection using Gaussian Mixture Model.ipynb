{
 "cells": [
  {
   "cell_type": "code",
   "execution_count": 221,
   "metadata": {},
   "outputs": [],
   "source": [
    "import numpy as np\n",
    "from sklearn import datasets\n",
    "from sklearn.datasets import make_spd_matrix\n",
    "from scipy.stats import multivariate_normal"
   ]
  },
  {
   "cell_type": "code",
   "execution_count": 254,
   "metadata": {},
   "outputs": [],
   "source": [
    "class GaussianMixture:\n",
    "    def __init__(self, n_components=1, max_iter=5):\n",
    "        self.n_components = n_components\n",
    "        self.max_iter = max_iter\n",
    "    \n",
    "    def __init_param(self, X):\n",
    "        N, D = X.shape\n",
    "        self.weights = np.ones(self.n_components) / self.n_components\n",
    "        self.means = np.random.choice(X.flatten(), size=(self.n_components, D))\n",
    "        self.covs = np.array([make_spd_matrix(D) for _ in range(self.n_components)])\n",
    "        self.__assertion(X)\n",
    "        \n",
    "    def __assertion(self, X):\n",
    "        N, D = X.shape\n",
    "        assert self.weights.shape == (self.n_components, )\n",
    "        assert self.means.shape == (self.n_components, D)\n",
    "        assert self.covs.shape == (self.n_components, D, D)\n",
    "    \n",
    "    def __expectation(self, X):\n",
    "        N, D = X.shape\n",
    "        likelihoods = np.array([multivariate_normal.pdf(X, self.means[k], self.covs[k], allow_singular=True) \\\n",
    "                               for k in range(self.n_components)])\n",
    "        total_likelihood = np.sum([likelihoods[k] * self.weights[k] \\\n",
    "                                  for k in range(self.n_components)], axis=0)\n",
    "        self.probs = np.array([likelihoods[k] * self.weights[k] / total_likelihood \\\n",
    "                               for k in range(self.n_components)])\n",
    "\n",
    "    def __maximization(self, X):\n",
    "        self.__assertion(X)\n",
    "        N, D = X.shape     \n",
    "        \n",
    "        for k in range(self.n_components):\n",
    "            k_total_prob = np.sum(self.probs[k])\n",
    "            k_raised_prob = self.probs[k].reshape(N, 1) \n",
    "            \n",
    "            self.weights[k] = k_total_prob / N\n",
    "            self.means[k] = np.sum(k_raised_prob * X, axis=0) / k_total_prob\n",
    "            \n",
    "            diff_k = (X - self.means[k])\n",
    "            self.covs[k] = np.dot((k_raised_prob * diff_k).T, diff_k) / k_total_prob\n",
    "        \n",
    "        self.__assertion(X)\n",
    "    \n",
    "    \n",
    "    def __em(self, X):\n",
    "        self.__expectation(X)\n",
    "        self.__maximization(X)  \n",
    "    \n",
    "    def fit(self, X):\n",
    "        self.__init_param(X)\n",
    "        for _ in range(self.max_iter):\n",
    "            self.__em(X)  "
   ]
  },
  {
   "cell_type": "code",
   "execution_count": 255,
   "metadata": {},
   "outputs": [],
   "source": [
    "gmm = GaussianMixture(n_components=2)\n",
    "X = datasets.load_iris().data\n",
    "gmm.fit(X)"
   ]
  },
  {
   "cell_type": "code",
   "execution_count": null,
   "metadata": {},
   "outputs": [],
   "source": []
  },
  {
   "cell_type": "code",
   "execution_count": null,
   "metadata": {},
   "outputs": [],
   "source": []
  }
 ],
 "metadata": {
  "kernelspec": {
   "display_name": "Python 3",
   "language": "python",
   "name": "python3"
  },
  "language_info": {
   "codemirror_mode": {
    "name": "ipython",
    "version": 3
   },
   "file_extension": ".py",
   "mimetype": "text/x-python",
   "name": "python",
   "nbconvert_exporter": "python",
   "pygments_lexer": "ipython3",
   "version": "3.7.3"
  }
 },
 "nbformat": 4,
 "nbformat_minor": 4
}
