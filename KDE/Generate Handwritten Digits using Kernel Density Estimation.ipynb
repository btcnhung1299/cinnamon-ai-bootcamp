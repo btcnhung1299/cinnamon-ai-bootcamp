{
 "cells": [
  {
   "cell_type": "code",
   "execution_count": 1,
   "metadata": {},
   "outputs": [],
   "source": [
    "import numpy as np\n",
    "import matplotlib.pyplot as plt\n",
    "from scipy.special import gammainc"
   ]
  },
  {
   "cell_type": "code",
   "execution_count": 2,
   "metadata": {},
   "outputs": [],
   "source": [
    "from sklearn.datasets import load_digits\n",
    "digits = load_digits()\n",
    "digits.data.shape\n",
    "X = digits.data\n",
    "\n",
    "def plot_digits(data):\n",
    "    n_rows = (data.shape[0] + 9) // 10\n",
    "    fig, ax = plt.subplots(n_rows, 10, figsize=(8, 8), subplot_kw=dict(xticks=[], yticks=[]))\n",
    "    fig.subplots_adjust(hspace=0.05, wspace=0.05)\n",
    "    \n",
    "    for i, axi in enumerate(ax.flat):\n",
    "        if i >= data.shape[0]:\n",
    "            break\n",
    "        im = axi.imshow(data[i].reshape(8, 8), cmap='binary')\n",
    "        im.set_clim(0, 16)"
   ]
  },
  {
   "cell_type": "code",
   "execution_count": 3,
   "metadata": {},
   "outputs": [],
   "source": [
    "import numbers\n",
    "def check_random_state(seed):\n",
    "    if seed is None or seed is np.random:\n",
    "        return np.random.mtrand._rand\n",
    "    if isinstance(seed, numbers.Integral):\n",
    "        return np.random.RandomState(seed)\n",
    "    if isinstance(seed, np.random.RandomState):\n",
    "        return seed\n",
    "    raise ValueError('%r cannot be used to seed a numpy.random.RandomState instance')"
   ]
  },
  {
   "cell_type": "code",
   "execution_count": 8,
   "metadata": {},
   "outputs": [],
   "source": [
    "VALID_KERNELS = ['gaussian', 'tophat']\n",
    "\n",
    "class KernelDensity:\n",
    "    def __init__(self, kernel='gaussian', bw_method=None):\n",
    "        assert kernel in VALID_KERNELS\n",
    "        self.bw_method = bw_method\n",
    "        self.kernel = kernel\n",
    "        \n",
    "    def estimate_bandwidth(self):\n",
    "        N, D = self.data_.shape\n",
    "        \n",
    "        if np.isscalar(self.bw_method) and not isinstance(self.bw_method, str):\n",
    "            cov_factor = self.bw_method\n",
    "        elif self.bw_method is None or self.bw_method == 'scott':\n",
    "            cov_factor = np.power(N, -1 / (D + 4))\n",
    "        elif self.bw_method == 'silverman':\n",
    "            cov_factor = np.power(N * (D + 2.) / 4., -1 / (D + 4))\n",
    "\n",
    "        return np.power(np.atleast_2d(cov_factor * np.std(self.data_, axis=0)), 2)\n",
    "        \n",
    "    def fit(self, X, y=None):\n",
    "        self.data_ = X\n",
    "        self.bandwidth_ = self.estimate_bandwidth()\n",
    "        return self\n",
    "    \n",
    "    def sample(self, n_samples=1, random_state=None):\n",
    "        N, D = self.data_.shape\n",
    "        rng = check_random_state(random_state)\n",
    "        indices = rng.choice(N, n_samples)        \n",
    "        \n",
    "        if self.kernel == 'gaussian':\n",
    "            return np.atleast_2d(rng.normal(self.data_[indices], self.bandwidth_))\n",
    "    \n",
    "        elif self.kernel == 'tophat':\n",
    "            X = rng.normal(size=(n_samples, D))\n",
    "            s_sq = np.sqrt((X * X).sum(axis=1))\n",
    "            correction = gammainc(0.5 * D, 0.5 * s_sq) ** (1. / D) * self.bandwidth_ / np.sqrt(s_sq)\n",
    "            return self.data_[indices] + X * correction[:, np.newaxis]"
   ]
  },
  {
   "cell_type": "code",
   "execution_count": 14,
   "metadata": {},
   "outputs": [],
   "source": [
    "kde = KernelDensity(bw_method=1, kernel='gaussian')\n",
    "new_digits = kde.fit(X).sample(n_samples=80)"
   ]
  },
  {
   "cell_type": "code",
   "execution_count": 12,
   "metadata": {},
   "outputs": [
    {
     "data": {
      "image/png": "[encoded data removed]",
      "text/plain": [
       "<Figure size 576x576 with 80 Axes>"
      ]
     },
     "metadata": {},
     "output_type": "display_data"
    }
   ],
   "source": [
    "plot_digits(new_digits)"
   ]
  }
 ],
 "metadata": {
  "kernelspec": {
   "display_name": "Python 3",
   "language": "python",
   "name": "python3"
  },
  "language_info": {
   "codemirror_mode": {
    "name": "ipython",
    "version": 3
   },
   "file_extension": ".py",
   "mimetype": "text/x-python",
   "name": "python",
   "nbconvert_exporter": "python",
   "pygments_lexer": "ipython3",
   "version": "3.7.3"
  }
 },
 "nbformat": 4,
 "nbformat_minor": 4
}
