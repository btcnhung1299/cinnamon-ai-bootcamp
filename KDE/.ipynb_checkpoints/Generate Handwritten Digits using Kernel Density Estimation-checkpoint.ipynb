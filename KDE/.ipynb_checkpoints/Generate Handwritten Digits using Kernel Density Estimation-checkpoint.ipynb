{
 "cells": [
  {
   "cell_type": "code",
   "execution_count": 29,
   "metadata": {},
   "outputs": [],
   "source": [
    "import numpy as np\n",
    "import struct\n",
    "import warnings\n",
    "warnings.filterwarnings('ignore')"
   ]
  },
  {
   "cell_type": "code",
   "execution_count": 39,
   "metadata": {},
   "outputs": [],
   "source": [
    "def read_ubyte(file_name, img_file=True):\n",
    "    data = None\n",
    "    if img_file:\n",
    "        with open(file_name, 'rb') as f:\n",
    "            magic, size = struct.unpack('>II', f.read(8))\n",
    "            nrows, ncols = struct.unpack('>II', f.read(8))\n",
    "            data = np.fromfile(f, dtype=np.dtype(np.uint8).newbyteorder('>'))\n",
    "            data = data.reshape((size, nrows * ncols))\n",
    "    else:\n",
    "        with open(file_name, 'rb') as f:\n",
    "            magic, size = struct.unpack('>II', f.read(8))\n",
    "            data = np.fromfile(f, dtype=np.dtype(np.uint8).newbyteorder('>'))\n",
    "    return data"
   ]
  },
  {
   "cell_type": "code",
   "execution_count": null,
   "metadata": {},
   "outputs": [],
   "source": []
  },
  {
   "cell_type": "code",
   "execution_count": 58,
   "metadata": {},
   "outputs": [],
   "source": [
    "train_indices = np.random.randint(0, 60000, size=2000)\n",
    "test_indices = np.random.randint(0, 10000, size=1000)\n",
    "X_train = read_ubyte('./dataset/train-images-idx3-ubyte')[train_indices]\n",
    "y_train = read_ubyte('./dataset/train-labels-idx1-ubyte', img_file=False)[train_indices]\n",
    "X_test = read_ubyte('./dataset/t10k-images-idx3-ubyte')[test_indices]\n",
    "y_test = read_ubyte('./dataset/t10k-labels-idx1-ubyte', img_file=False)[test_indices]"
   ]
  },
  {
   "cell_type": "code",
   "execution_count": 59,
   "metadata": {},
   "outputs": [
    {
     "name": "stdout",
     "output_type": "stream",
     "text": [
      "Training data: (2000, 784) (2000,)\n",
      "Testing data: (1000, 784) (1000,)\n"
     ]
    }
   ],
   "source": [
    "print('Training data:', X_train.shape, y_train.shape)\n",
    "print('Testing data:', X_test.shape, y_test.shape)"
   ]
  },
  {
   "cell_type": "code",
   "execution_count": null,
   "metadata": {},
   "outputs": [],
   "source": []
  },
  {
   "cell_type": "code",
   "execution_count": 60,
   "metadata": {},
   "outputs": [
    {
     "name": "stdout",
     "output_type": "stream",
     "text": [
      "Sample #1671: 7\n"
     ]
    },
    {
     "data": {
      "image/png": "[encoded data removed]",
      "text/plain": [
       "<Figure size 432x288 with 1 Axes>"
      ]
     },
     "metadata": {
      "needs_background": "light"
     },
     "output_type": "display_data"
    }
   ],
   "source": [
    "rnd_idx = np.random.randint(0, X_train.shape[0])\n",
    "sample_img, sample_label = X_train[rnd_idx], y_train[rnd_idx]\n",
    "\n",
    "import matplotlib.pyplot as plt\n",
    "print('Sample #{id}: {label}'.format(id=rnd_idx, label=sample_label))\n",
    "plt.imshow(sample_img.reshape(28, 28), cmap='binary');"
   ]
  },
  {
   "cell_type": "code",
   "execution_count": null,
   "metadata": {},
   "outputs": [],
   "source": []
  },
  {
   "cell_type": "code",
   "execution_count": 61,
   "metadata": {},
   "outputs": [],
   "source": [
    "def plot_samples(new_data, data=None):\n",
    "    nimgs = new_data.shape[0] + new_data.shape[0] * (data is not None)\n",
    "    ncols = 10\n",
    "    nrows = (nimgs + ncols - 1) // ncols\n",
    "    \n",
    "    fig, ax = plt.subplots(nrows, ncols, figsize=(min(ncols * 1.25, 10), 4),\n",
    "                           subplot_kw={'xticks': [], 'yticks': []})\n",
    "    fig.subplots_adjust(hspace=0.05, wspace=0.05)\n",
    "    \n",
    "    i = j = k = 0\n",
    "    while k < nimgs:\n",
    "        ax.flat[k].imshow(new_data[i].reshape(28, 28), cmap='binary').set_clim(0, 16)\n",
    "        i += 1\n",
    "        k += 1\n",
    "        if data is not None:\n",
    "            ax.flat[k].imshow(data[j].reshape(28, 28), cmap='binary').set_clim(0, 16)\n",
    "            j += 1\n",
    "            k += 1"
   ]
  },
  {
   "cell_type": "code",
   "execution_count": null,
   "metadata": {},
   "outputs": [],
   "source": []
  },
  {
   "cell_type": "markdown",
   "metadata": {},
   "source": [
    "`score_sample`\n",
    "\n",
    "$\\log{p(x)} =\n",
    "\\log \\sum_{i=1}^{n} \\exp{\\frac{1}{n}} +\n",
    "\\sum_{j=1}^{d} [-\\frac{x_j - \\mu_{i, j}}{2 \\sigma^2} - \\frac{1}{2} \\log(2 \\pi \\sigma^2)]$"
   ]
  },
  {
   "cell_type": "markdown",
   "metadata": {},
   "source": [
    "`score`\n",
    "\n",
    "$\\mathcal{L}_{\\mathcal{D}_{\\mathcal{B}}} = \\sum_{i=1}^{m}\\log{p(x_{i}^\\mathcal{B})}$"
   ]
  },
  {
   "cell_type": "code",
   "execution_count": 101,
   "metadata": {},
   "outputs": [],
   "source": [
    "from sklearn.neighbors import KDTree, BallTree\n",
    "from sklearn.base import BaseEstimator\n",
    "from scipy.special import gammainc\n",
    "\n",
    "VALID_KERNELS = ['gaussian', 'tophat']\n",
    "VALID_ALGORITHMS = ['kd_tree', 'ball_tree', 'brute_force']\n",
    "\n",
    "class KernelDensity(BaseEstimator):\n",
    "    \n",
    "    def __init__(self, kernel='gaussian', bandwidth=1, algorithm='kd_tree'):\n",
    "        assert kernel in VALID_KERNELS\n",
    "        assert algorithm in VALID_ALGORITHMS\n",
    "        \n",
    "        self.kernel = kernel\n",
    "        self.bandwidth = bandwidth\n",
    "        self.algorithm = algorithm\n",
    "        \n",
    "    def fit(self, X, sample_weight=None):\n",
    "        self.data_ = X\n",
    "        if self.algorithm == 'kd_tree':\n",
    "            self.tree_ = KDTree(X, metric='euclidean')\n",
    "        elif self.algorithm == 'ball_tree':\n",
    "            self.tree_ = BallTree(X, metric='euclidean')\n",
    "        return self\n",
    "    \n",
    "    def update_bandwidth(self):\n",
    "        N, D = self.data_.shape[0], self.data_[0].shape[0]\n",
    "        if np.isscalar(self.bandwidth) and not isinstance(self.bandwidth, str):\n",
    "            return self.bandwidth\n",
    "        elif self.bandwidth in ['auto', 'scott']:\n",
    "            return 1.06 * np.std(self.data_, axis=0) * N ** (-1 / (D + 4))\n",
    "    \n",
    "    def score_samples(self, X):\n",
    "        N, D = self.data_.shape[0], self.data_[0].shape[0]\n",
    "        if hasattr(self, 'tree_'):\n",
    "            log_density = self.tree_.kernel_density(X, h=self.bandwidth,\n",
    "                                                    kernel=self.kernel, return_log=True)\n",
    "        elif self.algorithm == 'brute_force':\n",
    "            sum_density = np.subtract(self.data_, X[:, np.newaxis]) ** 2\n",
    "            sum_density = -np.sum(sum_density, axis=2)\n",
    "            sum_density = np.sum(np.exp(sum_density / (2 * self.bandwidth ** 2)), axis=1)\n",
    "            log_density = -0.5 * D * np.log(2 * np.pi * self.bandwidth ** 2) + np.log(sum_density)\n",
    "        \n",
    "        return log_density - np.log(N)\n",
    "    \n",
    "    def score(self, X, y=None):\n",
    "        return np.sum(self.score_samples(X)) \n",
    "    \n",
    "    def sample(self, n_samples=1, random_state=None):\n",
    "        N, D = self.data_.shape[0], self.data_[0].shape[0]\n",
    "        rng = np.random.RandomState(random_state)\n",
    "        indices = rng.choice(N, n_samples)\n",
    "        \n",
    "        if self.kernel == 'gaussian':\n",
    "            return np.atleast_2d(rng.normal(self.data_[indices], self.bandwidth))\n",
    "        \n",
    "        elif self.kernel == 'tophat':\n",
    "            # Draw points from a D-dimensional normal distribution\n",
    "            # Then, use incomplete gamma function to map them to\n",
    "            # a D-dimensional uniform tophat distribution\n",
    "            \n",
    "            X = rng.normal(size=(n_samples, D))\n",
    "            norm_X = np.sqrt(np.sum(X * X, axis=1))\n",
    "            correction = (gammainc(0.5 * D, 0.5 * norm_X) ** (1. / D))\n",
    "            correction *= self.bandwidth / np.sqrt(norm_X)\n",
    "            return self.data_[indices] + X * correction[:, np.newaxis]\n",
    "        \n",
    "        raise NotImplementedError()\n",
    " "
   ]
  },
  {
   "cell_type": "code",
   "execution_count": 108,
   "metadata": {},
   "outputs": [],
   "source": [
    "from sklearn.model_selection import GridSearchCV\n",
    "from sklearn.metrics.scorer import make_scorer\n",
    "\n",
    "def estimate_bandwidth(X, range_bw=np.logspace(-1, 1, 10), cv=5):\n",
    "    params = {'bandwidth': range_bw}\n",
    "    grid = GridSearchCV(KernelDensity(), param_grid=params, cv=cv).fit(X);\n",
    "    return grid.best_estimator_.bandwidth"
   ]
  },
  {
   "cell_type": "code",
   "execution_count": 109,
   "metadata": {},
   "outputs": [],
   "source": [
    "bandwidth = estimate_bandwidth(X_train, range_bw=np.linspace(30, 40, 10))\n",
    "kde = KernelDensity(bandwidth=bandwidth, kernel='tophat').fit(X_train)"
   ]
  },
  {
   "cell_type": "code",
   "execution_count": 111,
   "metadata": {},
   "outputs": [
    {
     "data": {
      "image/png": "[encoded data removed]",
      "text/plain": [
       "<Figure size 720x288 with 50 Axes>"
      ]
     },
     "metadata": {},
     "output_type": "display_data"
    }
   ],
   "source": [
    "new_digits = kde.sample(50)\n",
    "plot_samples(new_digits)"
   ]
  }
 ],
 "metadata": {
  "kernelspec": {
   "display_name": "Python 3",
   "language": "python",
   "name": "python3"
  },
  "language_info": {
   "codemirror_mode": {
    "name": "ipython",
    "version": 3
   },
   "file_extension": ".py",
   "mimetype": "text/x-python",
   "name": "python",
   "nbconvert_exporter": "python",
   "pygments_lexer": "ipython3",
   "version": "3.7.3"
  }
 },
 "nbformat": 4,
 "nbformat_minor": 4
}
