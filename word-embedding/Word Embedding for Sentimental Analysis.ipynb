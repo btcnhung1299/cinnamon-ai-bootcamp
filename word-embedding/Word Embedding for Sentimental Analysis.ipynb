{
  "nbformat": 4,
  "nbformat_minor": 0,
  "metadata": {
    "kernelspec": {
      "display_name": "Python 3",
      "language": "python",
      "name": "python3"
    },
    "language_info": {
      "codemirror_mode": {
        "name": "ipython",
        "version": 3
      },
      "file_extension": ".py",
      "mimetype": "text/x-python",
      "name": "python",
      "nbconvert_exporter": "python",
      "pygments_lexer": "ipython3",
      "version": "3.7.3"
    },
    "colab": {
      "name": "Untitled-checkpoint.ipynb",
      "provenance": []
    }
  },
  "cells": [
    {
      "cell_type": "code",
      "metadata": {
        "id": "NdAGaNa_wpy4",
        "colab_type": "code",
        "colab": {}
      },
      "source": [
        "import pandas as pd\n",
        "import string\n",
        "import re\n",
        "import nltk\n",
        "import matplotlib.pyplot as plt\n",
        "from sklearn.manifold import TSNE"
      ],
      "execution_count": 0,
      "outputs": []
    },
    {
      "cell_type": "code",
      "metadata": {
        "id": "BeHoO-EhyxaA",
        "colab_type": "code",
        "colab": {}
      },
      "source": [
        "!pip install -q gensim"
      ],
      "execution_count": 0,
      "outputs": []
    },
    {
      "cell_type": "code",
      "metadata": {
        "id": "TJ5c0uhlxMY3",
        "colab_type": "code",
        "outputId": "49df1217-89fe-406e-9b99-a07eb400c179",
        "colab": {
          "base_uri": "https://localhost:8080/",
          "height": 85
        }
      },
      "source": [
        "# Download WordNet and stopwords\n",
        "nltk.download('wordnet');\n",
        "nltk.download('stopwords');\n",
        "\n",
        "# Download data\n",
        "DATA_LINK = \"http://www.cs.cornell.edu/~cristian/data/cornell_movie_dialogs_corpus.zip\"\n",
        "FILE_NAME = 'cornell_movie_dialogs_corpus.zip'\n",
        "!test -f $FILE_NAME || (wget -q $DATA_LINK && unzip -q $FILE_NAME && rm -rf $FILE_NAME)\n",
        "\n",
        "# Read data\n",
        "data_folder = \"./cornell movie-dialogs corpus\"\n",
        "with open('{}/movie_lines.txt'.format(data_folder), 'rb') as movie_lines_file:\n",
        "    lines_data = movie_lines_file.read().decode(encoding='utf-8', errors='ignore')"
      ],
      "execution_count": 3,
      "outputs": [
        {
          "output_type": "stream",
          "text": [
            "[nltk_data] Downloading package wordnet to /root/nltk_data...\n",
            "[nltk_data]   Unzipping corpora/wordnet.zip.\n",
            "[nltk_data] Downloading package stopwords to /root/nltk_data...\n",
            "[nltk_data]   Unzipping corpora/stopwords.zip.\n"
          ],
          "name": "stdout"
        }
      ]
    },
    {
      "cell_type": "markdown",
      "metadata": {
        "id": "D4L14tClwpzK",
        "colab_type": "text"
      },
      "source": [
        "### Data Gathering"
      ]
    },
    {
      "cell_type": "markdown",
      "metadata": {
        "id": "K1xG98XJwpzN",
        "colab_type": "text"
      },
      "source": [
        "<b>1.</b> First, we split text by endline symbol (`\\n`) to get list of utterances."
      ]
    },
    {
      "cell_type": "code",
      "metadata": {
        "id": "oFfzfG8BwpzO",
        "colab_type": "code",
        "outputId": "ad2838ab-497e-41e1-f956-6c8717ac4cad",
        "colab": {
          "base_uri": "https://localhost:8080/",
          "height": 51
        }
      },
      "source": [
        "utterances = lines_data.split(sep='\\n')\n",
        "print('Last line (\"{}\") is an empty string, so we remove it from list of utterances.'.format(utterances.pop()))\n",
        "print('Number of utterances:', len(utterances))"
      ],
      "execution_count": 4,
      "outputs": [
        {
          "output_type": "stream",
          "text": [
            "Last line (\"\") is an empty string, so we remove it from list of utterances.\n",
            "Number of utterances: 304713\n"
          ],
          "name": "stdout"
        }
      ]
    },
    {
      "cell_type": "markdown",
      "metadata": {
        "id": "tcjov0rUwpzS",
        "colab_type": "text"
      },
      "source": [
        "<b>2.</b> Observations on first 10 samples suggest the string ` +++$+++ ` acts as seperator between 5 components of an utterance."
      ]
    },
    {
      "cell_type": "code",
      "metadata": {
        "id": "DCSerKNYwpzT",
        "colab_type": "code",
        "outputId": "5e156c0d-7eeb-41cf-edd5-b27496d4a80a",
        "colab": {
          "base_uri": "https://localhost:8080/",
          "height": 275
        }
      },
      "source": [
        "print('> First 10 samples:')\n",
        "print(*utterances[:10], sep='\\n')\n",
        "\n",
        "print()\n",
        "\n",
        "print('> Is there a line which does not have exactly 4 \"+++$+++\"?')\n",
        "print('- {}'.format(any([line.count(' +++$+++ ') != 4 for line in utterances])))"
      ],
      "execution_count": 5,
      "outputs": [
        {
          "output_type": "stream",
          "text": [
            "> First 10 samples:\n",
            "L1045 +++$+++ u0 +++$+++ m0 +++$+++ BIANCA +++$+++ They do not!\n",
            "L1044 +++$+++ u2 +++$+++ m0 +++$+++ CAMERON +++$+++ They do to!\n",
            "L985 +++$+++ u0 +++$+++ m0 +++$+++ BIANCA +++$+++ I hope so.\n",
            "L984 +++$+++ u2 +++$+++ m0 +++$+++ CAMERON +++$+++ She okay?\n",
            "L925 +++$+++ u0 +++$+++ m0 +++$+++ BIANCA +++$+++ Let's go.\n",
            "L924 +++$+++ u2 +++$+++ m0 +++$+++ CAMERON +++$+++ Wow\n",
            "L872 +++$+++ u0 +++$+++ m0 +++$+++ BIANCA +++$+++ Okay -- you're gonna need to learn how to lie.\n",
            "L871 +++$+++ u2 +++$+++ m0 +++$+++ CAMERON +++$+++ No\n",
            "L870 +++$+++ u0 +++$+++ m0 +++$+++ BIANCA +++$+++ I'm kidding.  You know how sometimes you just become this \"persona\"?  And you don't know how to quit?\n",
            "L869 +++$+++ u0 +++$+++ m0 +++$+++ BIANCA +++$+++ Like my fear of wearing pastels?\n",
            "\n",
            "> Is there a line which does not have exactly 4 \"+++$+++\"?\n",
            "- False\n"
          ],
          "name": "stdout"
        }
      ]
    },
    {
      "cell_type": "markdown",
      "metadata": {
        "id": "gueuX-GKwpzX",
        "colab_type": "text"
      },
      "source": [
        "<b>3.</b> We then split each utterance by the seperator and convert the whole list to dataframe. Each column in dataframe is renamed regarding its meanings provided in `README.txt`."
      ]
    },
    {
      "cell_type": "code",
      "metadata": {
        "id": "9pmoJV7ywpzY",
        "colab_type": "code",
        "colab": {}
      },
      "source": [
        "utterances_data = pd.DataFrame([line.split(' +++$+++ ') for line in utterances],\n",
        "                               columns=['lineID', 'characterID', 'movieID', 'chacterter_name', 'text'])"
      ],
      "execution_count": 0,
      "outputs": []
    },
    {
      "cell_type": "code",
      "metadata": {
        "id": "aXzQmirAwpzf",
        "colab_type": "code",
        "outputId": "aed55e76-7caa-4556-ced3-8317e1679bd8",
        "colab": {
          "base_uri": "https://localhost:8080/",
          "height": 255
        }
      },
      "source": [
        "print('Number of characters:', utterances_data['characterID'].nunique())\n",
        "print('Number of movies:', utterances_data['movieID'].nunique())\n",
        "print()\n",
        "utterances_data.sample(5)"
      ],
      "execution_count": 7,
      "outputs": [
        {
          "output_type": "stream",
          "text": [
            "Number of characters: 9035\n",
            "Number of movies: 617\n",
            "\n"
          ],
          "name": "stdout"
        },
        {
          "output_type": "execute_result",
          "data": {
            "text/html": [
              "<div>\n",
              "<style scoped>\n",
              "    .dataframe tbody tr th:only-of-type {\n",
              "        vertical-align: middle;\n",
              "    }\n",
              "\n",
              "    .dataframe tbody tr th {\n",
              "        vertical-align: top;\n",
              "    }\n",
              "\n",
              "    .dataframe thead th {\n",
              "        text-align: right;\n",
              "    }\n",
              "</style>\n",
              "<table border=\"1\" class=\"dataframe\">\n",
              "  <thead>\n",
              "    <tr style=\"text-align: right;\">\n",
              "      <th></th>\n",
              "      <th>lineID</th>\n",
              "      <th>characterID</th>\n",
              "      <th>movieID</th>\n",
              "      <th>chacterter_name</th>\n",
              "      <th>text</th>\n",
              "    </tr>\n",
              "  </thead>\n",
              "  <tbody>\n",
              "    <tr>\n",
              "      <th>181585</th>\n",
              "      <td>L213256</td>\n",
              "      <td>u5269</td>\n",
              "      <td>m348</td>\n",
              "      <td>TYLER</td>\n",
              "      <td>People think that you're me, because you and I...</td>\n",
              "    </tr>\n",
              "    <tr>\n",
              "      <th>279294</th>\n",
              "      <td>L586910</td>\n",
              "      <td>u8262</td>\n",
              "      <td>m561</td>\n",
              "      <td>JOHANA</td>\n",
              "      <td>Listen, I just found out we've got real proble...</td>\n",
              "    </tr>\n",
              "    <tr>\n",
              "      <th>299235</th>\n",
              "      <td>L648155</td>\n",
              "      <td>u8867</td>\n",
              "      <td>m601</td>\n",
              "      <td>NORMAN</td>\n",
              "      <td>Ohmigod.  You'll never believe...I saw Schumwa...</td>\n",
              "    </tr>\n",
              "    <tr>\n",
              "      <th>55922</th>\n",
              "      <td>L317639</td>\n",
              "      <td>u1639</td>\n",
              "      <td>m107</td>\n",
              "      <td>RIZZO</td>\n",
              "      <td>No, you're dead! You're all dead!</td>\n",
              "    </tr>\n",
              "    <tr>\n",
              "      <th>280945</th>\n",
              "      <td>L597203</td>\n",
              "      <td>u8300</td>\n",
              "      <td>m564</td>\n",
              "      <td>LOMBARD</td>\n",
              "      <td>Id appreciate it if I could use your phone.</td>\n",
              "    </tr>\n",
              "  </tbody>\n",
              "</table>\n",
              "</div>"
            ],
            "text/plain": [
              "         lineID  ...                                               text\n",
              "181585  L213256  ...  People think that you're me, because you and I...\n",
              "279294  L586910  ...  Listen, I just found out we've got real proble...\n",
              "299235  L648155  ...  Ohmigod.  You'll never believe...I saw Schumwa...\n",
              "55922   L317639  ...                  No, you're dead! You're all dead!\n",
              "280945  L597203  ...        Id appreciate it if I could use your phone.\n",
              "\n",
              "[5 rows x 5 columns]"
            ]
          },
          "metadata": {
            "tags": []
          },
          "execution_count": 7
        }
      ]
    },
    {
      "cell_type": "markdown",
      "metadata": {
        "id": "9PnRYDVgwpzj",
        "colab_type": "text"
      },
      "source": [
        "### Data Cleaning"
      ]
    },
    {
      "cell_type": "markdown",
      "metadata": {
        "id": "cuQPOMZlwpzk",
        "colab_type": "text"
      },
      "source": [
        "<b>1.</b> We define normal characters consisting of alphabetic letters and basic sentence punctuations. Others are considered as special characters."
      ]
    },
    {
      "cell_type": "code",
      "metadata": {
        "id": "XmVL8oRgwpzl",
        "colab_type": "code",
        "outputId": "1e52c15e-f9f3-4633-f6a0-d02aabef22ff",
        "colab": {
          "base_uri": "https://localhost:8080/",
          "height": 51
        }
      },
      "source": [
        "characters = set()\n",
        "utterances_data['text'].apply(lambda text : characters.update(list(text)));\n",
        "\n",
        "# Set of special characters is the intersection\n",
        "# between set of letters appeared in the dataset and normal characters\n",
        "special_characters = characters.difference(string.ascii_letters + '.,!? \\'')    \n",
        "\n",
        "print('List of {} special characters:'.format(len(special_characters)))\n",
        "print(*special_characters, sep=', ')"
      ],
      "execution_count": 8,
      "outputs": [
        {
          "output_type": "stream",
          "text": [
            "List of 35 special characters:\n",
            "], <, 2, 4, 9, 3, -, |, 8, 6, 5, /, \", \t, _, 7, &, [, *, ), ^, =, %, :, }, $, {, ~, #, 0, `, ;, 1, >, +\n"
          ],
          "name": "stdout"
        }
      ]
    },
    {
      "cell_type": "markdown",
      "metadata": {
        "id": "b3-7zBpCwpzp",
        "colab_type": "text"
      },
      "source": [
        "<b>2.</b> Remove special characters and replace punctuations as well as verb short form ('m, 's, 've, 'd, 're, 'll) by space."
      ]
    },
    {
      "cell_type": "code",
      "metadata": {
        "id": "o1lWTPh1wpzq",
        "colab_type": "code",
        "outputId": "48bb98b0-e6cd-4969-a9de-60d4a360a878",
        "colab": {
          "base_uri": "https://localhost:8080/",
          "height": 51
        }
      },
      "source": [
        "def preprocess(text):\n",
        "  text = ''.join([c for c in text if c not in special_characters])\n",
        "  text = re.sub(\"'m|'s|'ve|'d|'re|'ll|([\\.,])+\", ' ', text)\n",
        "  return text\n",
        "\n",
        "sample_text = utterances_data['text'].sample().values[0]\n",
        "print('Sample text:', sample_text)\n",
        "print('After preprocessed:', preprocess(sample_text))"
      ],
      "execution_count": 9,
      "outputs": [
        {
          "output_type": "stream",
          "text": [
            "Sample text: But it's light in there now.\n",
            "After preprocessed: But it  light in there now \n"
          ],
          "name": "stdout"
        }
      ]
    },
    {
      "cell_type": "markdown",
      "metadata": {
        "id": "o90l9fERwpzu",
        "colab_type": "text"
      },
      "source": [
        "<b>3.</b> Lower casing, lemmatization and repeat removing are utilized to normalize utterance tokens."
      ]
    },
    {
      "cell_type": "code",
      "metadata": {
        "id": "AILAJ_C8wpzv",
        "colab_type": "code",
        "outputId": "3b4f21e8-7470-4bb1-e734-18b647e8cb1c",
        "colab": {
          "base_uri": "https://localhost:8080/",
          "height": 34
        }
      },
      "source": [
        "from nltk.corpus import wordnet\n",
        "\n",
        "# Create a simple RepeatReplacer using regex\n",
        "class RepeatReplacer():\n",
        "    def __init__(self):\n",
        "        self.pattern = re.compile(r'(\\w*)(\\w)\\2(\\w*)')\n",
        "        self.repl = r'\\1\\2\\3'\n",
        "    \n",
        "    def replace(self, word):\n",
        "        if wordnet.synsets(word):\n",
        "            return word\n",
        "        repl_word = self.pattern.sub(self.repl, word)\n",
        "        \n",
        "        # Recursively replace until it can't be replaced anymore\n",
        "        return repl_word if repl_word == word else self.replace(repl_word)\n",
        "\n",
        "# Testing RepeatReplacer object\n",
        "RepeatReplacer().replace('aaaaaaaaaaaaaaarghhhh')"
      ],
      "execution_count": 10,
      "outputs": [
        {
          "output_type": "execute_result",
          "data": {
            "text/plain": [
              "'argh'"
            ]
          },
          "metadata": {
            "tags": []
          },
          "execution_count": 10
        }
      ]
    },
    {
      "cell_type": "code",
      "metadata": {
        "id": "HmQt9Vq2wpzy",
        "colab_type": "code",
        "outputId": "fcbffb8a-78c7-445d-b4c3-f90baa5de3f8",
        "colab": {
          "base_uri": "https://localhost:8080/",
          "height": 51
        }
      },
      "source": [
        "from nltk.stem import SnowballStemmer, WordNetLemmatizer\n",
        "from nltk.corpus import stopwords\n",
        "stop_words = set(stopwords.words('english'))\n",
        "\n",
        "replacer = RepeatReplacer()\n",
        "#stemmer = SnowballStemmer(language='english')\n",
        "lemmatizer = WordNetLemmatizer()\n",
        "\n",
        "tokenize = lambda text : [lemmatizer.lemmatize(replacer.replace(\n",
        "                          word.strip(string.punctuation)))\n",
        "                          for word in text.lower().split() if word and word not in stop_words]\n",
        "\n",
        "sample_text = utterances_data['text'].sample().values[0]\n",
        "print('Sample text:', sample_text)\n",
        "print('After tokenized:', tokenize(sample_text))"
      ],
      "execution_count": 11,
      "outputs": [
        {
          "output_type": "stream",
          "text": [
            "Sample text: Hi.\n",
            "After tokenized: ['hi']\n"
          ],
          "name": "stdout"
        }
      ]
    },
    {
      "cell_type": "markdown",
      "metadata": {
        "id": "2ZtHKaIOwp0B",
        "colab_type": "text"
      },
      "source": [
        "### Word Embedding"
      ]
    },
    {
      "cell_type": "code",
      "metadata": {
        "id": "pHFtNfpu4f3j",
        "colab_type": "code",
        "colab": {}
      },
      "source": [
        "text_data = utterances_data['text'].apply(lambda text : tokenize(preprocess(text)))"
      ],
      "execution_count": 0,
      "outputs": []
    },
    {
      "cell_type": "code",
      "metadata": {
        "id": "XHd5CuU8EEp4",
        "colab_type": "code",
        "colab": {
          "base_uri": "https://localhost:8080/",
          "height": 34
        },
        "outputId": "f575462b-f560-4c7b-dec4-81df5ed0fe2c"
      },
      "source": [
        "words = set()\n",
        "text_data.apply(words.update)\n",
        "print('Number of distinct words:', len(words))"
      ],
      "execution_count": 13,
      "outputs": [
        {
          "output_type": "stream",
          "text": [
            "Number of distinct words: 50755\n"
          ],
          "name": "stdout"
        }
      ]
    },
    {
      "cell_type": "markdown",
      "metadata": {
        "id": "3R7tJWkUwp0D",
        "colab_type": "text"
      },
      "source": [
        "#### Bag of Words"
      ]
    },
    {
      "cell_type": "code",
      "metadata": {
        "id": "42KtjSKfwp0F",
        "colab_type": "code",
        "outputId": "8a450f5a-be9e-4333-a607-8f7b3a2319d0",
        "colab": {
          "base_uri": "https://localhost:8080/",
          "height": 51
        }
      },
      "source": [
        "# Naive BoW\n",
        "from sklearn.feature_extraction.text import CountVectorizer\n",
        "count_vectorizer = CountVectorizer()\n",
        "bow_vec = count_vectorizer.fit_transform(utterances_data['text'].values)\n",
        "\n",
        "print('Shape:', bow_vec.shape)\n",
        "print(*bow_vec[0].toarray())"
      ],
      "execution_count": 14,
      "outputs": [
        {
          "output_type": "stream",
          "text": [
            "Shape: (304713, 49103)\n",
            "[0 0 0 ... 0 0 0]\n"
          ],
          "name": "stdout"
        }
      ]
    },
    {
      "cell_type": "code",
      "metadata": {
        "id": "-3TPKUj9wp0I",
        "colab_type": "code",
        "outputId": "8e5e1a24-f0c6-402c-e57d-a6539bb2caa4",
        "colab": {
          "base_uri": "https://localhost:8080/",
          "height": 51
        }
      },
      "source": [
        "# TF-IDF\n",
        "from sklearn.feature_extraction.text import TfidfVectorizer\n",
        "tfidf_vectorizer = TfidfVectorizer()\n",
        "tfidf_vec = tfidf_vectorizer.fit_transform(utterances_data['text'].values)\n",
        "\n",
        "print('Shape:', tfidf_vec.shape)\n",
        "print(*tfidf_vec[0].toarray())"
      ],
      "execution_count": 15,
      "outputs": [
        {
          "output_type": "stream",
          "text": [
            "Shape: (304713, 49103)\n",
            "[0. 0. 0. ... 0. 0. 0.]\n"
          ],
          "name": "stdout"
        }
      ]
    },
    {
      "cell_type": "markdown",
      "metadata": {
        "id": "r1kjg7xp-s5E",
        "colab_type": "text"
      },
      "source": [
        "#### CBOW"
      ]
    },
    {
      "cell_type": "code",
      "metadata": {
        "id": "YYWQnBrmwp0N",
        "colab_type": "code",
        "colab": {}
      },
      "source": [
        "# Ref: https://towardsdatascience.com/word-embedding-with-word2vec-and-fasttext-a209c1d3e12c\n",
        "\n",
        "from gensim.models.word2vec import Word2Vec\n",
        "cbow = Word2Vec(sentences=text_data, window=5, size=100, sg=0)\n",
        "cbow_words = list(cbow.wv.vocab.keys())\n",
        "cbow_embeddings = cbow.wv[cbow.wv.vocab]"
      ],
      "execution_count": 0,
      "outputs": []
    },
    {
      "cell_type": "markdown",
      "metadata": {
        "id": "u8Px6AFzQ6KF",
        "colab_type": "text"
      },
      "source": [
        "#### Skip Gram"
      ]
    },
    {
      "cell_type": "code",
      "metadata": {
        "id": "2Ut4Yi5JQgVR",
        "colab_type": "code",
        "colab": {}
      },
      "source": [
        "from gensim.models.word2vec import Word2Vec\n",
        "skipgram = Word2Vec(sentences=text_data, window=5, size=100, sg=1)\n",
        "skipgram_words = list(skipgram.wv.vocab.keys())\n",
        "skipgram_embeddings = skipgram.wv[skipgram.wv.vocab]"
      ],
      "execution_count": 0,
      "outputs": []
    },
    {
      "cell_type": "markdown",
      "metadata": {
        "id": "kp4vG-6C_LEz",
        "colab_type": "text"
      },
      "source": [
        "### GloVe"
      ]
    },
    {
      "cell_type": "code",
      "metadata": {
        "id": "ymGKjsDq786S",
        "colab_type": "code",
        "colab": {}
      },
      "source": [
        "# Ref: https://medium.com/@jonathan_hui/nlp-word-embedding-glove-5e7f523999f6\n",
        "\n"
      ],
      "execution_count": 0,
      "outputs": []
    },
    {
      "cell_type": "code",
      "metadata": {
        "id": "VCXUs6uV-dxr",
        "colab_type": "code",
        "colab": {}
      },
      "source": [
        ""
      ],
      "execution_count": 0,
      "outputs": []
    },
    {
      "cell_type": "code",
      "metadata": {
        "id": "zyHK3pnw60A5",
        "colab_type": "code",
        "colab": {}
      },
      "source": [
        ""
      ],
      "execution_count": 0,
      "outputs": []
    },
    {
      "cell_type": "markdown",
      "metadata": {
        "id": "3wt78aQkCotD",
        "colab_type": "text"
      },
      "source": [
        "### Quanlitative Testing"
      ]
    },
    {
      "cell_type": "code",
      "metadata": {
        "id": "eC4e6h7DCrbY",
        "colab_type": "code",
        "colab": {}
      },
      "source": [
        "def visualize(words, embeddings, n_samples='all'):\n",
        "  if n_samples == 'all':\n",
        "    labels = words\n",
        "    positions = embeddings\n",
        "  else:\n",
        "    indices = np.random.randint(0, len(words), n_samples)\n",
        "    labels = [words[i] for i in indices]\n",
        "    positions = [embeddings[i] for i in indices]\n",
        "\n",
        "  positions = TSNE(n_components=2).fit_transform(positions)\n",
        "  plt.figure(figsize=(15, 7))\n",
        "  plt.scatter(positions[:, 0], positions[:, 1], c='purple', alpha=.5);\n",
        "\n",
        "  for label, x, y in zip(labels, positions[:, 0], positions[:, 1]):\n",
        "    plt.annotate(label, (x, y))\n",
        "\n",
        "  plt.show()  "
      ],
      "execution_count": 0,
      "outputs": []
    },
    {
      "cell_type": "code",
      "metadata": {
        "id": "szzx_gpNV6oQ",
        "colab_type": "code",
        "colab": {
          "base_uri": "https://localhost:8080/",
          "height": 428
        },
        "outputId": "d1f3a9c9-9bef-4627-f874-2076370ae57c"
      },
      "source": [
        "visualize(skipgram_words, skipgram_embeddings, n_samples=100)"
      ],
      "execution_count": 76,
      "outputs": [
        {
          "output_type": "display_data",
          "data": {
            "image/png": "[encoded data removed]",
            "text/plain": [
              "<Figure size 1080x504 with 1 Axes>"
            ]
          },
          "metadata": {
            "tags": []
          }
        }
      ]
    }
  ]
}