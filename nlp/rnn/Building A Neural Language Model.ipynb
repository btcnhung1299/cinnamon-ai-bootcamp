{
  "nbformat": 4,
  "nbformat_minor": 0,
  "metadata": {
    "colab": {
      "name": "Copy of Building A Neural Language Model.ipynb",
      "provenance": [],
      "authorship_tag": "ABX9TyPLXchtjoh2qG7aOtOhcIBZ",
      "include_colab_link": true
    },
    "kernelspec": {
      "name": "python3",
      "display_name": "Python 3"
    },
    "accelerator": "GPU"
  },
  "cells": [
    {
      "cell_type": "markdown",
      "metadata": {
        "id": "view-in-github",
        "colab_type": "text"
      },
      "source": [
        "<a href=\"https://colab.research.google.com/github/btcnhung1299/cinnamon-ai-bootcamp/blob/master/Building%20A%20Neural%20Language%20Model.ipynb\" target=\"_parent\"><img src=\"https://colab.research.google.com/assets/colab-badge.svg\" alt=\"Open In Colab\"/></a>"
      ]
    },
    {
      "cell_type": "code",
      "metadata": {
        "id": "koD3BW_VAISk",
        "colab_type": "code",
        "outputId": "a7a14a01-3b6f-4f4e-bc27-6bc9f0451454",
        "colab": {
          "base_uri": "https://localhost:8080/",
          "height": 63
        }
      },
      "source": [
        "import numpy as np\n",
        "import os\n",
        "import tensorflow as tf\n",
        "tf.enable_eager_execution()"
      ],
      "execution_count": 1,
      "outputs": [
        {
          "output_type": "display_data",
          "data": {
            "text/html": [
              "<p style=\"color: red;\">\n",
              "The default version of TensorFlow in Colab will soon switch to TensorFlow 2.x.<br>\n",
              "We recommend you <a href=\"https://www.tensorflow.org/guide/migrate\" target=\"_blank\">upgrade</a> now \n",
              "or ensure your notebook will continue to use TensorFlow 1.x via the <code>%tensorflow_version 1.x</code> magic:\n",
              "<a href=\"https://colab.research.google.com/notebooks/tensorflow_version.ipynb\" target=\"_blank\">more info</a>.</p>\n"
            ],
            "text/plain": [
              "<IPython.core.display.HTML object>"
            ]
          },
          "metadata": {
            "tags": []
          }
        }
      ]
    },
    {
      "cell_type": "markdown",
      "metadata": {
        "id": "dXeWwsaL2fYN",
        "colab_type": "text"
      },
      "source": [
        "Download pre-processed data"
      ]
    },
    {
      "cell_type": "code",
      "metadata": {
        "id": "8T5ByC5WyD4j",
        "colab_type": "code",
        "outputId": "a3dda39d-71cc-467f-e10d-588f636249f5",
        "colab": {
          "base_uri": "https://localhost:8080/",
          "height": 102
        }
      },
      "source": [
        "!test -f wikitext-2-raw-v1.zip || wget -q https://s3.amazonaws.com/research.metamind.io/wikitext/wikitext-2-raw-v1.zip\n",
        "DATA_FOLDER = 'wikitext-2-raw'\n",
        "!test -d $DATA_FOLDER || unzip wikitext-2-raw-v1.zip"
      ],
      "execution_count": 2,
      "outputs": [
        {
          "output_type": "stream",
          "text": [
            "Archive:  wikitext-2-raw-v1.zip\n",
            "   creating: wikitext-2-raw/\n",
            "  inflating: wikitext-2-raw/wiki.test.raw  \n",
            "  inflating: wikitext-2-raw/wiki.valid.raw  \n",
            "  inflating: wikitext-2-raw/wiki.train.raw  \n"
          ],
          "name": "stdout"
        }
      ]
    },
    {
      "cell_type": "markdown",
      "metadata": {
        "id": "DwvpomlJ2lbg",
        "colab_type": "text"
      },
      "source": [
        "Use utf-8 scheme to decode text"
      ]
    },
    {
      "cell_type": "code",
      "metadata": {
        "id": "EhcO75NNyV0p",
        "colab_type": "code",
        "colab": {}
      },
      "source": [
        "with open('{}/wiki.train.raw'.format(DATA_FOLDER), 'rb') as f:\n",
        "  text = f.read().decode(encoding='utf8')"
      ],
      "execution_count": 0,
      "outputs": []
    },
    {
      "cell_type": "markdown",
      "metadata": {
        "id": "zUhFEOFq2tqC",
        "colab_type": "text"
      },
      "source": [
        "Examples of data"
      ]
    },
    {
      "cell_type": "code",
      "metadata": {
        "id": "d6OpOOthzKeZ",
        "colab_type": "code",
        "outputId": "f445e764-79f0-4617-fd73-1b33094ac75d",
        "colab": {
          "base_uri": "https://localhost:8080/",
          "height": 258
        }
      },
      "source": [
        "vocab = sorted(set(text))\n",
        "print('Length of text:', len(text))\n",
        "print('Number of unique characters:', len(vocab))\n",
        "print('First 3000 words:')\n",
        "print(text[:3000])"
      ],
      "execution_count": 4,
      "outputs": [
        {
          "output_type": "stream",
          "text": [
            "Length of text: 10918892\n",
            "Number of unique characters: 1013\n",
            "First 3000 words:\n",
            " \n",
            " = Valkyria Chronicles III = \n",
            " \n",
            " Senjō no Valkyria 3 : Unrecorded Chronicles ( Japanese : 戦場のヴァルキュリア3 , lit . Valkyria of the Battlefield 3 ) , commonly referred to as Valkyria Chronicles III outside Japan , is a tactical role @-@ playing video game developed by Sega and Media.Vision for the PlayStation Portable . Released in January 2011 in Japan , it is the third game in the Valkyria series . Employing the same fusion of tactical and real @-@ time gameplay as its predecessors , the story runs parallel to the first game and follows the \" Nameless \" , a penal military unit serving the nation of Gallia during the Second Europan War who perform secret black operations and are pitted against the Imperial unit \" Calamaty Raven \" . \n",
            " The game began development in 2010 , carrying over a large portion of the work done on Valkyria Chronicles II . While it retained the standard features of the series , it also underwent multiple adjustments , such as making the game more forgiving for series newcomers . Character designer Raita Honjou and composer Hitoshi Sakimoto both returned from previous entries , along with Valkyria Chronicles II director Takeshi Ozawa . A large team of writers handled the script . The game 's opening theme was sung by May 'n . \n",
            " It met with positive sales in Japan , and was praised by both Japanese and western critics . After release , it received downloadable content , along with an expanded edition in November of that year . It was also adapted into manga and an original video animation series . Due to low sales of Valkyria Chronicles II , Valkyria Chronicles III was not localized , but a fan translation compatible with the game 's expanded edition was released in 2014 . Media.Vision would return to the franchise with the development of Valkyria : Azure Revolution for the PlayStation 4 . \n",
            " \n",
            " = = Gameplay = = \n",
            " \n",
            " As with previous Valkyira Chronicles games , Valkyria Chronicles III is a tactical role @-@ playing game where players take control of a military unit and take part in missions against enemy forces . Stories are told through comic book @-@ like panels with animated character portraits , with characters speaking partially through voiced speech bubbles and partially through unvoiced text . The player progresses through a series of linear missions , gradually unlocked as maps that can be freely scanned through and replayed as they are unlocked . The route to each story location on the map varies depending on an individual player 's approach : when one option is selected , the other is sealed off to the player . Outside missions , the player characters rest in a camp , where units can be customized and character growth occurs . Alongside the main story missions are character @-@ specific sub missions relating to different squad members . After the game 's completion , additional episodes are unlocked , some of them having a higher difficulty than those found in the rest of the game . There are also love simulation elements r\n"
          ],
          "name": "stdout"
        }
      ]
    },
    {
      "cell_type": "markdown",
      "metadata": {
        "id": "GbG3pJM15eGF",
        "colab_type": "text"
      },
      "source": [
        "### Vectorize the text"
      ]
    },
    {
      "cell_type": "markdown",
      "metadata": {
        "id": "u3XjEe9jB5kX",
        "colab_type": "text"
      },
      "source": [
        "Encode each character in the text by a unique number."
      ]
    },
    {
      "cell_type": "code",
      "metadata": {
        "id": "YrOeE9b05hYI",
        "colab_type": "code",
        "colab": {}
      },
      "source": [
        "# Create mapping from unique characters to indices\n",
        "char2idx = {char : idx for idx, char in enumerate(vocab)}\n",
        "\n",
        "# Create mapping from indices to characters\n",
        "idx2char = np.array(vocab)"
      ],
      "execution_count": 0,
      "outputs": []
    },
    {
      "cell_type": "code",
      "metadata": {
        "id": "NuZUer3O564x",
        "colab_type": "code",
        "outputId": "bcf0f91e-05b6-4f5a-e191-b89ebfc73a09",
        "colab": {
          "base_uri": "https://localhost:8080/",
          "height": 153
        }
      },
      "source": [
        "# Vectorize the text\n",
        "text_as_int = np.array([char2idx[char] for char in text])\n",
        "\n",
        "# Take a look at the first 100 characters after vectorizing\n",
        "text_as_int[:100]"
      ],
      "execution_count": 6,
      "outputs": [
        {
          "output_type": "execute_result",
          "data": {
            "text/plain": [
              "array([  1,   0,   1,  30,   1,  55,  66,  77,  76,  90,  83,  74,  66,\n",
              "         1,  36,  73,  83,  80,  79,  74,  68,  77,  70,  84,   1,  42,\n",
              "        42,  42,   1,  30,   1,   0,   1,   0,   1,  52,  70,  79,  75,\n",
              "       183,   1,  79,  80,   1,  55,  66,  77,  76,  90,  83,  74,  66,\n",
              "         1,  20,   1,  27,   1,  54,  79,  83,  70,  68,  80,  83,  69,\n",
              "        70,  69,   1,  36,  73,  83,  80,  79,  74,  68,  77,  70,  84,\n",
              "         1,   9,   1,  43,  66,  81,  66,  79,  70,  84,  70,   1,  27,\n",
              "         1, 810, 758, 617, 693, 637, 689, 648, 685])"
            ]
          },
          "metadata": {
            "tags": []
          },
          "execution_count": 6
        }
      ]
    },
    {
      "cell_type": "markdown",
      "metadata": {
        "id": "ntwKitGi-Txm",
        "colab_type": "text"
      },
      "source": [
        "#### Create target"
      ]
    },
    {
      "cell_type": "markdown",
      "metadata": {
        "id": "d4WJdrG6CNSd",
        "colab_type": "text"
      },
      "source": [
        "The sequence contains both input sequence and target sequence.\n",
        "- Each input sequence contains `seq_length` characters from the text.\n",
        "- Its corresponding target has the same number of characters except shifted one character to the right.\n",
        "\n",
        "For example, sequence `Cinnamon` is split as `Cinnamo` (input) and `innamon` (target)."
      ]
    },
    {
      "cell_type": "code",
      "metadata": {
        "id": "mUJqJZZY6k-V",
        "colab_type": "code",
        "outputId": "f5d5fe10-dd47-47be-d908-b1890e2f7ad1",
        "colab": {
          "base_uri": "https://localhost:8080/",
          "height": 187
        }
      },
      "source": [
        "# The maximum number of characters in a input sequence\n",
        "inp_seq_length = 30\n",
        "\n",
        "# A sequence contains input and target (shifted 1 to input)\n",
        "seq_length = inp_seq_length + 1\n",
        "\n",
        "# Convert text vector to stream of characters indices\n",
        "char_stream = tf.data.Dataset.from_tensor_slices(text_as_int)\n",
        "\n",
        "# Convert stream of characters to sequence of seq_length\n",
        "seqs = char_stream.batch(seq_length, drop_remainder=True)\n",
        "\n",
        "# Take a look at first 2 sequences\n",
        "for seq in seqs.take(2):\n",
        "  print('Original sequence:\\n', repr(''.join(idx2char[seq.numpy()])))\n",
        "  print('Vectorized:\\n', seq.numpy())\n",
        "  "
      ],
      "execution_count": 7,
      "outputs": [
        {
          "output_type": "stream",
          "text": [
            "Original sequence:\n",
            " ' \\n = Valkyria Chronicles III = '\n",
            "Vectorized:\n",
            " [ 1  0  1 30  1 55 66 77 76 90 83 74 66  1 36 73 83 80 79 74 68 77 70 84\n",
            "  1 42 42 42  1 30  1]\n",
            "Original sequence:\n",
            " '\\n \\n Senjō no Valkyria 3 : Unrec'\n",
            "Vectorized:\n",
            " [  0   1   0   1  52  70  79  75 183   1  79  80   1  55  66  77  76  90\n",
            "  83  74  66   1  20   1  27   1  54  79  83  70  68]\n"
          ],
          "name": "stdout"
        }
      ]
    },
    {
      "cell_type": "markdown",
      "metadata": {
        "id": "OvPiVcXXH3gy",
        "colab_type": "text"
      },
      "source": [
        "Split a sequence to input and target one."
      ]
    },
    {
      "cell_type": "code",
      "metadata": {
        "id": "cVCwGPF3Ay-g",
        "colab_type": "code",
        "outputId": "f5d4cc53-6380-4ab6-d936-df86bbdc8179",
        "colab": {
          "base_uri": "https://localhost:8080/",
          "height": 51
        }
      },
      "source": [
        "input_target_split = lambda seq : (seq[:-1], seq[1:])\n",
        "train_data = seqs.map(input_target_split)\n",
        "\n",
        "# Take a look at first input and target sequence\n",
        "for inp_seq, target_seq in train_data.take(1):\n",
        "  print('Input seq:', repr(''.join(idx2char[inp_seq.numpy()])))\n",
        "  print('Target seq:', repr(''.join(idx2char[target_seq.numpy()])))"
      ],
      "execution_count": 8,
      "outputs": [
        {
          "output_type": "stream",
          "text": [
            "Input seq: ' \\n = Valkyria Chronicles III ='\n",
            "Target seq: '\\n = Valkyria Chronicles III = '\n"
          ],
          "name": "stdout"
        }
      ]
    },
    {
      "cell_type": "markdown",
      "metadata": {
        "id": "JrMxOC3e1Pum",
        "colab_type": "text"
      },
      "source": [
        "#### Create training batches"
      ]
    },
    {
      "cell_type": "code",
      "metadata": {
        "id": "54Ety-4w1P_I",
        "colab_type": "code",
        "outputId": "461ebac9-dcbc-48b0-81ee-f5e7424e7728",
        "colab": {
          "base_uri": "https://localhost:8080/",
          "height": 34
        }
      },
      "source": [
        "BATCH_SIZE = 64\n",
        "BUFFER_SIZE = 5000\n",
        "\n",
        "# Shuffle data and pack it to batches\n",
        "batch_data = train_data.shuffle(BUFFER_SIZE).batch(BATCH_SIZE, drop_remainder=True)\n",
        "batch_data"
      ],
      "execution_count": 9,
      "outputs": [
        {
          "output_type": "execute_result",
          "data": {
            "text/plain": [
              "<DatasetV1Adapter shapes: ((64, 30), (64, 30)), types: (tf.int64, tf.int64)>"
            ]
          },
          "metadata": {
            "tags": []
          },
          "execution_count": 9
        }
      ]
    },
    {
      "cell_type": "markdown",
      "metadata": {
        "id": "IpRyuvus50K5",
        "colab_type": "text"
      },
      "source": [
        "### Build the Model"
      ]
    },
    {
      "cell_type": "code",
      "metadata": {
        "id": "izDIqq7q556l",
        "colab_type": "code",
        "outputId": "cec00c0b-87fa-4261-f0cd-75216404c229",
        "colab": {
          "base_uri": "https://localhost:8080/",
          "height": 255
        }
      },
      "source": [
        "vocab_size = len(vocab)\n",
        "embedding_dim = 256\n",
        "rnn_units = 1024\n",
        "\n",
        "def build_model(vocab_size, embedding_dim, rnn_units, batch_size):\n",
        "  return tf.keras.Sequential([\n",
        "            tf.keras.layers.Embedding(vocab_size, embedding_dim,\n",
        "                                      batch_input_shape=[batch_size, None]),\n",
        "            tf.keras.layers.GRU(rnn_units, return_sequences=True,\n",
        "                                stateful=True, recurrent_initializer='glorot_uniform'),\n",
        "            tf.keras.layers.Dense(vocab_size)\n",
        "        ])\n",
        "\n",
        "model = build_model(vocab_size, embedding_dim, rnn_units, BATCH_SIZE)\n",
        "\n",
        "# Loss function\n",
        "loss = lambda labels, logits : tf.keras.losses.sparse_categorical_crossentropy(labels, logits, from_logits=True)\n",
        "\n",
        "# Optimizer\n",
        "model.compile(optimizer='adam', loss=loss)\n",
        "\n",
        "model.summary()"
      ],
      "execution_count": 10,
      "outputs": [
        {
          "output_type": "stream",
          "text": [
            "Model: \"sequential\"\n",
            "_________________________________________________________________\n",
            "Layer (type)                 Output Shape              Param #   \n",
            "=================================================================\n",
            "embedding (Embedding)        (64, None, 256)           259328    \n",
            "_________________________________________________________________\n",
            "gru (GRU)                    (64, None, 1024)          3935232   \n",
            "_________________________________________________________________\n",
            "dense (Dense)                (64, None, 1013)          1038325   \n",
            "=================================================================\n",
            "Total params: 5,232,885\n",
            "Trainable params: 5,232,885\n",
            "Non-trainable params: 0\n",
            "_________________________________________________________________\n"
          ],
          "name": "stdout"
        }
      ]
    },
    {
      "cell_type": "markdown",
      "metadata": {
        "id": "rvcsiZxT7dLc",
        "colab_type": "text"
      },
      "source": [
        "Try model on the first example in the batch. Output should be of size (batch_size, inp_seq_length, vocab_size)"
      ]
    },
    {
      "cell_type": "code",
      "metadata": {
        "id": "lDednOPX7jlC",
        "colab_type": "code",
        "outputId": "2868b9fa-7ea7-4230-ac0c-d5f7b5d69135",
        "colab": {
          "base_uri": "https://localhost:8080/",
          "height": 136
        }
      },
      "source": [
        "for inp_seq, target_seq in batch_data.take(1):\n",
        "  pred_seq = model(inp_seq)\n",
        "  print('Prediction shape:', pred_seq.shape)\n",
        "\n",
        "  sampled_indices = tf.random.categorical(pred_seq[0], num_samples=1)\n",
        "  sampled_indices = tf.squeeze(sampled_indices, axis=-1).numpy()\n",
        "  \n",
        "  print('--- Sample ---')\n",
        "  print('Input seq:\\n', repr(''.join(idx2char[inp_seq[0].numpy()])))\n",
        "  print('Next character predicted:\\n', repr(''.join(idx2char[sampled_indices])))\n",
        "  print('Loss:', loss(target_seq, pred_seq).numpy().mean())"
      ],
      "execution_count": 11,
      "outputs": [
        {
          "output_type": "stream",
          "text": [
            "Prediction shape: (64, 30, 1013)\n",
            "--- Sample ---\n",
            "Input seq:\n",
            " 'undergone improvements over th'\n",
            "Next character predicted:\n",
            " '應თp州Ľ其巳و?თłרֵ昌θ劇ႣŚベ岳ჭ平yდÉ贵母U拉χ'\n",
            "Loss: 6.9208417\n"
          ],
          "name": "stdout"
        }
      ]
    },
    {
      "cell_type": "markdown",
      "metadata": {
        "id": "E1jCBdDR_Lk8",
        "colab_type": "text"
      },
      "source": [
        "## Training"
      ]
    },
    {
      "cell_type": "markdown",
      "metadata": {
        "id": "Pi9EdWSfKWng",
        "colab_type": "text"
      },
      "source": [
        "Configure checkpoints"
      ]
    },
    {
      "cell_type": "code",
      "metadata": {
        "id": "VuBPldo9KYG4",
        "colab_type": "code",
        "colab": {}
      },
      "source": [
        "# Directory where the checkpoints will be saved\n",
        "checkpoint_dir = './training_checkpoints'\n",
        "checkpoint_prefix = os.path.join(checkpoint_dir, \"ckpt_{epoch}\")\n",
        "\n",
        "checkpoint_callback = tf.keras.callbacks.ModelCheckpoint(filepath=checkpoint_prefix,\n",
        "                                                          save_weights_only=True)"
      ],
      "execution_count": 0,
      "outputs": []
    },
    {
      "cell_type": "markdown",
      "metadata": {
        "id": "hvvCqeahKvKs",
        "colab_type": "text"
      },
      "source": [
        "Train and save checkpoints"
      ]
    },
    {
      "cell_type": "code",
      "metadata": {
        "id": "2laTbmp9_M93",
        "colab_type": "code",
        "outputId": "87295af8-4674-4d92-9039-11a177fc7ea1",
        "colab": {
          "base_uri": "https://localhost:8080/",
          "height": 224
        }
      },
      "source": [
        "history = model.fit(batch_data, epochs=4, callbacks=[checkpoint_callback])"
      ],
      "execution_count": 13,
      "outputs": [
        {
          "output_type": "stream",
          "text": [
            "Epoch 1/4\n",
            "WARNING:tensorflow:From /usr/local/lib/python3.6/dist-packages/tensorflow_core/python/ops/math_grad.py:1424: where (from tensorflow.python.ops.array_ops) is deprecated and will be removed in a future version.\n",
            "Instructions for updating:\n",
            "Use tf.where in 2.0, which has the same broadcast rule as np.where\n",
            "5503/5503 [==============================] - 523s 95ms/step - loss: 1.6001\n",
            "Epoch 2/4\n",
            "5503/5503 [==============================] - 530s 96ms/step - loss: 1.4252\n",
            "Epoch 3/4\n",
            "5503/5503 [==============================] - 534s 97ms/step - loss: 1.4069\n",
            "Epoch 4/4\n",
            "5503/5503 [==============================] - 534s 97ms/step - loss: 1.4076\n"
          ],
          "name": "stdout"
        }
      ]
    },
    {
      "cell_type": "markdown",
      "metadata": {
        "id": "_BOJubdhDqUw",
        "colab_type": "text"
      },
      "source": [
        "### Prediction"
      ]
    },
    {
      "cell_type": "markdown",
      "metadata": {
        "id": "TCKCtz3SKyj1",
        "colab_type": "text"
      },
      "source": [
        "Load weights from latest checkpoints for prediction"
      ]
    },
    {
      "cell_type": "code",
      "metadata": {
        "id": "AXJaRYZAK3rq",
        "colab_type": "code",
        "colab": {
          "base_uri": "https://localhost:8080/",
          "height": 255
        },
        "outputId": "e5b6a70a-5c57-4e40-c061-9f2b5f9c0759"
      },
      "source": [
        "tf.train.latest_checkpoint(checkpoint_dir)\n",
        "\n",
        "# Rebuild model\n",
        "model = build_model(vocab_size, embedding_dim, rnn_units, batch_size=1)\n",
        "model.load_weights(tf.train.latest_checkpoint(checkpoint_dir))\n",
        "\n",
        "model.build(tf.TensorShape([1, None]))\n",
        "model.summary()"
      ],
      "execution_count": 14,
      "outputs": [
        {
          "output_type": "stream",
          "text": [
            "Model: \"sequential_1\"\n",
            "_________________________________________________________________\n",
            "Layer (type)                 Output Shape              Param #   \n",
            "=================================================================\n",
            "embedding_1 (Embedding)      (1, None, 256)            259328    \n",
            "_________________________________________________________________\n",
            "gru_1 (GRU)                  (1, None, 1024)           3935232   \n",
            "_________________________________________________________________\n",
            "dense_1 (Dense)              (1, None, 1013)           1038325   \n",
            "=================================================================\n",
            "Total params: 5,232,885\n",
            "Trainable params: 5,232,885\n",
            "Non-trainable params: 0\n",
            "_________________________________________________________________\n"
          ],
          "name": "stdout"
        }
      ]
    },
    {
      "cell_type": "code",
      "metadata": {
        "id": "N516xWfFDsI4",
        "colab_type": "code",
        "colab": {}
      },
      "source": [
        "def generate_text(model, start_string, num_characters=1000):\n",
        "  # Vectorize start string\n",
        "  input_seq = [char2idx[c] for c in start_string]\n",
        "  input_seq = tf.expand_dims(input_seq, 0)\n",
        "\n",
        "  text_generated = []\n",
        "  model.reset_states()    # Restart RNN states\n",
        "  temperature = 0.5       # Hyperparameter: lower ~ more predictable, higher ~ more unexpected\n",
        "\n",
        "  for i in range(num_characters):\n",
        "    next_char = model(input_seq)\n",
        "    \n",
        "    next_char = tf.squeeze(next_char, 0) / temperature\n",
        "    next_char_id = tf.random.categorical(next_char, num_samples=1)[-1, 0].numpy()\n",
        "\n",
        "    input_seq = tf.expand_dims([next_char_id], 0)\n",
        "    text_generated.append(idx2char[next_char_id])\n",
        "  \n",
        "  return start_string + ''.join(text_generated)"
      ],
      "execution_count": 0,
      "outputs": []
    },
    {
      "cell_type": "code",
      "metadata": {
        "id": "e3ELIzmhKDB7",
        "colab_type": "code",
        "colab": {
          "base_uri": "https://localhost:8080/",
          "height": 224
        },
        "outputId": "e3c9d658-90eb-4991-aaa9-0b5a10657554"
      },
      "source": [
        "print(generate_text(model, u'= = Music = =', num_characters=500))\n",
        "print()\n",
        "print(generate_text(model, u'= = Game = =', num_characters=500))"
      ],
      "execution_count": 18,
      "outputs": [
        {
          "output_type": "stream",
          "text": [
            "= = Music = = = \n",
            " \n",
            " The star has been repeated by the star with the proportion of the comparison to the right to be considered as both the star 's life of the series , in the Canning mass of the common starling ( 1858 – 1816 ) , the town , completed as a star , in the communal star , the regions of drivers such as the city of the common starling was constant energy to create the end of the basket , was the first ment in the same time of the series , but the second time is the first through the Canning River \n",
            "\n",
            "= = Game = = \n",
            " \n",
            " The parasides of the large starling of the composer , the star was the song to the south . The fourth star , and the first measurement of the time , as the world is not a six types of stars in the planets that the most star contracts , with white luminosity of the end of the way to be found to be a thing as a subspecies of red seven for its original period . \n",
            " \n",
            " = = = = = Life = = \n",
            " \n",
            " The composer of the first outside to the first time of the leader to sign his newly entered the population \n"
          ],
          "name": "stdout"
        }
      ]
    }
  ]
}