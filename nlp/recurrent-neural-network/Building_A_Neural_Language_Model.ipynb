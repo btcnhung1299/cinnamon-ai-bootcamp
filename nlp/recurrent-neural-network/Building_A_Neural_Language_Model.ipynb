{
  "nbformat": 4,
  "nbformat_minor": 0,
  "metadata": {
    "colab": {
      "name": "Building A Neural Language Model.ipynb",
      "provenance": [],
      "collapsed_sections": []
    },
    "kernelspec": {
      "name": "python3",
      "display_name": "Python 3"
    },
    "accelerator": "GPU"
  },
  "cells": [
    {
      "cell_type": "code",
      "metadata": {
        "id": "koD3BW_VAISk",
        "colab_type": "code",
        "outputId": "95b96ddf-930c-48d4-bcde-7431617ab67e",
        "colab": {
          "base_uri": "https://localhost:8080/",
          "height": 63
        }
      },
      "source": [
        "import numpy as np\n",
        "import string\n",
        "import os\n",
        "import tensorflow as tf\n",
        "tf.enable_eager_execution()"
      ],
      "execution_count": 1,
      "outputs": [
        {
          "output_type": "display_data",
          "data": {
            "text/html": [
              "<p style=\"color: red;\">\n",
              "The default version of TensorFlow in Colab will soon switch to TensorFlow 2.x.<br>\n",
              "We recommend you <a href=\"https://www.tensorflow.org/guide/migrate\" target=\"_blank\">upgrade</a> now \n",
              "or ensure your notebook will continue to use TensorFlow 1.x via the <code>%tensorflow_version 1.x</code> magic:\n",
              "<a href=\"https://colab.research.google.com/notebooks/tensorflow_version.ipynb\" target=\"_blank\">more info</a>.</p>\n"
            ],
            "text/plain": [
              "<IPython.core.display.HTML object>"
            ]
          },
          "metadata": {
            "tags": []
          }
        }
      ]
    },
    {
      "cell_type": "markdown",
      "metadata": {
        "id": "raGLvDNoviAL",
        "colab_type": "text"
      },
      "source": [
        "## Data Preparation"
      ]
    },
    {
      "cell_type": "markdown",
      "metadata": {
        "id": "dXeWwsaL2fYN",
        "colab_type": "text"
      },
      "source": [
        "Download pre-processed data"
      ]
    },
    {
      "cell_type": "code",
      "metadata": {
        "id": "8T5ByC5WyD4j",
        "colab_type": "code",
        "outputId": "2ac418d3-f87b-482d-a495-69bf18564a08",
        "colab": {
          "base_uri": "https://localhost:8080/",
          "height": 102
        }
      },
      "source": [
        "!test -f wikitext-2-raw-v1.zip || wget -q https://s3.amazonaws.com/research.metamind.io/wikitext/wikitext-2-raw-v1.zip\n",
        "DATA_FOLDER = 'wikitext-2-raw'\n",
        "!test -d $DATA_FOLDER || unzip wikitext-2-raw-v1.zip"
      ],
      "execution_count": 2,
      "outputs": [
        {
          "output_type": "stream",
          "text": [
            "Archive:  wikitext-2-raw-v1.zip\n",
            "   creating: wikitext-2-raw/\n",
            "  inflating: wikitext-2-raw/wiki.test.raw  \n",
            "  inflating: wikitext-2-raw/wiki.valid.raw  \n",
            "  inflating: wikitext-2-raw/wiki.train.raw  \n"
          ],
          "name": "stdout"
        }
      ]
    },
    {
      "cell_type": "markdown",
      "metadata": {
        "id": "DwvpomlJ2lbg",
        "colab_type": "text"
      },
      "source": [
        "Use utf-8 scheme to decode text"
      ]
    },
    {
      "cell_type": "code",
      "metadata": {
        "id": "EhcO75NNyV0p",
        "colab_type": "code",
        "outputId": "24f5ef24-280f-4bbe-a697-6cc2898fb43e",
        "colab": {
          "base_uri": "https://localhost:8080/",
          "height": 122
        }
      },
      "source": [
        "with open('{}/wiki.train.raw'.format(DATA_FOLDER), 'rb') as f:\n",
        "  text = f.read().decode(encoding='utf8')\n",
        "\n",
        "print(text[:1000])"
      ],
      "execution_count": 3,
      "outputs": [
        {
          "output_type": "stream",
          "text": [
            " \n",
            " = Valkyria Chronicles III = \n",
            " \n",
            " Senjō no Valkyria 3 : Unrecorded Chronicles ( Japanese : 戦場のヴァルキュリア3 , lit . Valkyria of the Battlefield 3 ) , commonly referred to as Valkyria Chronicles III outside Japan , is a tactical role @-@ playing video game developed by Sega and Media.Vision for the PlayStation Portable . Released in January 2011 in Japan , it is the third game in the Valkyria series . Employing the same fusion of tactical and real @-@ time gameplay as its predecessors , the story runs parallel to the first game and follows the \" Nameless \" , a penal military unit serving the nation of Gallia during the Second Europan War who perform secret black operations and are pitted against the Imperial unit \" Calamaty Raven \" . \n",
            " The game began development in 2010 , carrying over a large portion of the work done on Valkyria Chronicles II . While it retained the standard features of the series , it also underwent multiple adjustments , such as making the game more forgiving for series \n"
          ],
          "name": "stdout"
        }
      ]
    },
    {
      "cell_type": "markdown",
      "metadata": {
        "id": "Ai4KRfZoirlt",
        "colab_type": "text"
      },
      "source": [
        "To reduce the vocabulary size, we remove all words that are neither ASCII-alphabetic nor basic punctuations."
      ]
    },
    {
      "cell_type": "code",
      "metadata": {
        "id": "JKTCc_Pmg2Og",
        "colab_type": "code",
        "outputId": "d637b518-0e78-4d2d-fb5d-d63a7e9c8beb",
        "colab": {
          "base_uri": "https://localhost:8080/",
          "height": 187
        }
      },
      "source": [
        "def clean(text):\n",
        "  def is_ascii(str):\n",
        "    try:\n",
        "      str.encode('ascii')\n",
        "    except UnicodeEncodeError:\n",
        "      return False\n",
        "    return True & str.isalpha()\n",
        "\n",
        "  lines = text.splitlines()\n",
        "  for i, line in enumerate(lines):\n",
        "    lines[i] = ' '.join([word for word in line.split() if is_ascii(word) or word in ('.', '=',',')])\n",
        "  return '\\n'.join(lines)\n",
        "\n",
        "print('Original:\\n', text[:100])\n",
        "print('Reduced:\\n', clean(text[:100]))\n",
        "cleaned_text = clean(text)"
      ],
      "execution_count": 4,
      "outputs": [
        {
          "output_type": "stream",
          "text": [
            "Original:\n",
            "  \n",
            " = Valkyria Chronicles III = \n",
            " \n",
            " Senjō no Valkyria 3 : Unrecorded Chronicles ( Japanese : 戦場のヴァルキュ\n",
            "Reduced:\n",
            " \n",
            "= Valkyria Chronicles III =\n",
            "\n",
            "no Valkyria Unrecorded Chronicles Japanese\n"
          ],
          "name": "stdout"
        }
      ]
    },
    {
      "cell_type": "markdown",
      "metadata": {
        "id": "zUhFEOFq2tqC",
        "colab_type": "text"
      },
      "source": [
        "Statistics of text"
      ]
    },
    {
      "cell_type": "code",
      "metadata": {
        "id": "d6OpOOthzKeZ",
        "colab_type": "code",
        "outputId": "23c6baf5-64f2-4319-83c1-bbe781537977",
        "colab": {
          "base_uri": "https://localhost:8080/",
          "height": 51
        }
      },
      "source": [
        "vocab = sorted(set(cleaned_text))\n",
        "vocab_size = len(vocab)\n",
        "print('Number of unique characters:', vocab_size)\n",
        "print(repr(' '.join(vocab)))"
      ],
      "execution_count": 5,
      "outputs": [
        {
          "output_type": "stream",
          "text": [
            "Number of unique characters: 57\n",
            "'\\n   , . = A B C D E F G H I J K L M N O P Q R S T U V W X Y Z a b c d e f g h i j k l m n o p q r s t u v w x y z'\n"
          ],
          "name": "stdout"
        }
      ]
    },
    {
      "cell_type": "markdown",
      "metadata": {
        "id": "GbG3pJM15eGF",
        "colab_type": "text"
      },
      "source": [
        "### Vectorize the text"
      ]
    },
    {
      "cell_type": "markdown",
      "metadata": {
        "id": "u3XjEe9jB5kX",
        "colab_type": "text"
      },
      "source": [
        "Encode each character in the text by a unique number."
      ]
    },
    {
      "cell_type": "code",
      "metadata": {
        "id": "YrOeE9b05hYI",
        "colab_type": "code",
        "outputId": "dc903dfa-0b8f-49dc-b90d-2d48e100f46a",
        "colab": {
          "base_uri": "https://localhost:8080/",
          "height": 187
        }
      },
      "source": [
        "# Create mapping from unique characters to indices\n",
        "char2idx = {char : idx for idx, char in enumerate(vocab)}\n",
        "\n",
        "# Create mapping from indices to characters\n",
        "idx2char = np.array(vocab)\n",
        "\n",
        "# Vectorize the text\n",
        "text_as_int = np.array([char2idx[char] for char in cleaned_text])\n",
        "\n",
        "# First 50 words after vectorizing\n",
        "print('Original:\\n', *idx2char[text_as_int[:50]], sep='', end='\\n\\n')\n",
        "print('Vectorized:\\n', text_as_int[:50])"
      ],
      "execution_count": 6,
      "outputs": [
        {
          "output_type": "stream",
          "text": [
            "Original:\n",
            "\n",
            "= Valkyria Chronicles III =\n",
            "\n",
            "no Valkyria Unrecord\n",
            "\n",
            "Vectorized:\n",
            " [ 0  4  1 26 31 42 41 55 48 39 31  1  7 38 48 45 44 39 33 42 35 49  1 13\n",
            " 13 13  1  4  0  0 44 45  1 26 31 42 41 55 48 39 31  1 25 44 48 35 33 45\n",
            " 48 34]\n"
          ],
          "name": "stdout"
        }
      ]
    },
    {
      "cell_type": "markdown",
      "metadata": {
        "id": "ntwKitGi-Txm",
        "colab_type": "text"
      },
      "source": [
        "#### Create target"
      ]
    },
    {
      "cell_type": "markdown",
      "metadata": {
        "id": "d4WJdrG6CNSd",
        "colab_type": "text"
      },
      "source": [
        "The sequence contains both input sequence and target sequence.\n",
        "- Each input sequence contains `seq_length` characters from the text.\n",
        "- Its corresponding target has the same number of characters except shifted one character to the right.\n",
        "\n",
        "For example, sequence `cinnamon` is split as `cinnamo` (input) and `innamon` (target)."
      ]
    },
    {
      "cell_type": "code",
      "metadata": {
        "id": "mUJqJZZY6k-V",
        "colab_type": "code",
        "outputId": "5a6c7b05-7b58-4877-a86a-0f2a3f013eea",
        "colab": {
          "base_uri": "https://localhost:8080/",
          "height": 221
        }
      },
      "source": [
        "# The maximum number of characters in a input sequence\n",
        "input_seq_length = 50\n",
        "\n",
        "# A sequence contains input and target (shifted 1 word to the right)\n",
        "seq_length = input_seq_length + 1\n",
        "\n",
        "# Create stream of words indices\n",
        "char_indices_stream = tf.data.Dataset.from_tensor_slices(text_as_int)\n",
        "\n",
        "# Convert stream of characters to sequence of seq_length\n",
        "seqs = char_indices_stream.batch(seq_length, drop_remainder=True)\n",
        "\n",
        "# Take a look at first sequence\n",
        "for seq in seqs.take(1):\n",
        "  print('Original sequence:\\n', *idx2char[seq.numpy()], sep='',end='\\n\\n')\n",
        "  print('Sequence shape:', seq.shape, end='\\n\\n')\n",
        "  print('Vectorized:\\n', seq.numpy())"
      ],
      "execution_count": 7,
      "outputs": [
        {
          "output_type": "stream",
          "text": [
            "Original sequence:\n",
            "\n",
            "= Valkyria Chronicles III =\n",
            "\n",
            "no Valkyria Unrecorde\n",
            "\n",
            "Sequence shape: (51,)\n",
            "\n",
            "Vectorized:\n",
            " [ 0  4  1 26 31 42 41 55 48 39 31  1  7 38 48 45 44 39 33 42 35 49  1 13\n",
            " 13 13  1  4  0  0 44 45  1 26 31 42 41 55 48 39 31  1 25 44 48 35 33 45\n",
            " 48 34 35]\n"
          ],
          "name": "stdout"
        }
      ]
    },
    {
      "cell_type": "markdown",
      "metadata": {
        "id": "OvPiVcXXH3gy",
        "colab_type": "text"
      },
      "source": [
        "Split a sequence to input and target one."
      ]
    },
    {
      "cell_type": "code",
      "metadata": {
        "id": "cVCwGPF3Ay-g",
        "colab_type": "code",
        "outputId": "61ab9b6d-574a-44bf-d892-89c2ff4491dd",
        "colab": {
          "base_uri": "https://localhost:8080/",
          "height": 187
        }
      },
      "source": [
        "input_target_split = lambda seq : (seq[:-1], seq[1:])\n",
        "train_data = seqs.map(input_target_split)\n",
        "\n",
        "# Take a look at first input and target sequence\n",
        "for inp_seq, target_seq in train_data.take(1):\n",
        "  print('Input seq:\\n', *idx2char[inp_seq.numpy()], sep='', end='\\n\\n')\n",
        "  print('Target seq:\\n', *idx2char[target_seq.numpy()], sep='')"
      ],
      "execution_count": 8,
      "outputs": [
        {
          "output_type": "stream",
          "text": [
            "Input seq:\n",
            "\n",
            "= Valkyria Chronicles III =\n",
            "\n",
            "no Valkyria Unrecord\n",
            "\n",
            "Target seq:\n",
            "= Valkyria Chronicles III =\n",
            "\n",
            "no Valkyria Unrecorde\n"
          ],
          "name": "stdout"
        }
      ]
    },
    {
      "cell_type": "markdown",
      "metadata": {
        "id": "JrMxOC3e1Pum",
        "colab_type": "text"
      },
      "source": [
        "#### Create training batches"
      ]
    },
    {
      "cell_type": "code",
      "metadata": {
        "id": "54Ety-4w1P_I",
        "colab_type": "code",
        "outputId": "b46bb1fb-2819-4efb-ba4a-eac4f46a3e1f",
        "colab": {
          "base_uri": "https://localhost:8080/",
          "height": 34
        }
      },
      "source": [
        "BATCH_SIZE = 64\n",
        "BUFFER_SIZE = 5000\n",
        "\n",
        "# Shuffle data and pack it to batches\n",
        "batch_data = train_data.shuffle(BUFFER_SIZE).batch(BATCH_SIZE, drop_remainder=True)\n",
        "batch_data"
      ],
      "execution_count": 9,
      "outputs": [
        {
          "output_type": "execute_result",
          "data": {
            "text/plain": [
              "<DatasetV1Adapter shapes: ((64, 50), (64, 50)), types: (tf.int64, tf.int64)>"
            ]
          },
          "metadata": {
            "tags": []
          },
          "execution_count": 9
        }
      ]
    },
    {
      "cell_type": "markdown",
      "metadata": {
        "id": "IpRyuvus50K5",
        "colab_type": "text"
      },
      "source": [
        "## Build the Model"
      ]
    },
    {
      "cell_type": "code",
      "metadata": {
        "id": "izDIqq7q556l",
        "colab_type": "code",
        "colab": {}
      },
      "source": [
        "embedding_dim = 256\n",
        "num_units = 1024\n",
        "\n",
        "# Loss function\n",
        "loss = lambda labels, logits : tf.keras.losses.sparse_categorical_crossentropy(labels, logits, from_logits=True)\n",
        "\n",
        "def build_model(batch_size, hidden_layer='RNN'):\n",
        "  assert hidden_layer in ['RNN', 'GRU', 'LSTM']\n",
        "  \n",
        "  model = tf.keras.Sequential()\n",
        "  model.add(tf.keras.layers.Embedding(vocab_size, embedding_dim, batch_input_shape=[batch_size, None]))\n",
        "  if hidden_layer == 'RNN':\n",
        "    model.add(tf.keras.layers.SimpleRNN(num_units, return_sequences=True, stateful=True))\n",
        "  elif hidden_layer == 'GRU':\n",
        "    model.add(tf.keras.layers.GRU(num_units, return_sequences=True, stateful=True))\n",
        "  elif hidden_layer == 'LSTM':\n",
        "    model.add(tf.keras.layers.LSTM(num_units, return_sequences=True, stateful=True))\n",
        "  model.add(tf.keras.layers.Dense(vocab_size))\n",
        "  \n",
        "  model.compile(optimizer='adam', loss=loss)\n",
        "  return model"
      ],
      "execution_count": 0,
      "outputs": []
    },
    {
      "cell_type": "code",
      "metadata": {
        "id": "5Hpmlx0wAF9S",
        "colab_type": "code",
        "outputId": "94b1d5ca-6072-490e-8cd8-a29fcb1f13b7",
        "colab": {
          "base_uri": "https://localhost:8080/",
          "height": 255
        }
      },
      "source": [
        "rnn_model = build_model(batch_size=BATCH_SIZE, hidden_layer='RNN')\n",
        "rnn_model.summary()"
      ],
      "execution_count": 11,
      "outputs": [
        {
          "output_type": "stream",
          "text": [
            "Model: \"sequential\"\n",
            "_________________________________________________________________\n",
            "Layer (type)                 Output Shape              Param #   \n",
            "=================================================================\n",
            "embedding (Embedding)        (64, None, 256)           14592     \n",
            "_________________________________________________________________\n",
            "simple_rnn (SimpleRNN)       (64, None, 1024)          1311744   \n",
            "_________________________________________________________________\n",
            "dense (Dense)                (64, None, 57)            58425     \n",
            "=================================================================\n",
            "Total params: 1,384,761\n",
            "Trainable params: 1,384,761\n",
            "Non-trainable params: 0\n",
            "_________________________________________________________________\n"
          ],
          "name": "stdout"
        }
      ]
    },
    {
      "cell_type": "markdown",
      "metadata": {
        "id": "E1jCBdDR_Lk8",
        "colab_type": "text"
      },
      "source": [
        "## Train RNN Language Model"
      ]
    },
    {
      "cell_type": "code",
      "metadata": {
        "id": "Gk9CSz6AC4Yw",
        "colab_type": "code",
        "colab": {}
      },
      "source": [
        "def generate_sample(model):\n",
        "  \"\"\"\n",
        "  Try model on the first example in the batch\n",
        "  Output should be of size (batch_size, inp_seq_length, vocab_size)\n",
        "  \"\"\"\n",
        "  for inp_seq, target_seq in batch_data.take(1):\n",
        "    pred_seq = model(inp_seq)\n",
        "    print('Prediction shape:', pred_seq.shape)\n",
        "\n",
        "    sampled_indices = tf.random.categorical(pred_seq[0], num_samples=1)\n",
        "    sampled_indices = tf.squeeze(sampled_indices, axis=-1).numpy()\n",
        "    \n",
        "    print('--- Sample ---', end='\\n\\n')\n",
        "    print('Input seq:\\n', *idx2char[inp_seq[0].numpy()], sep='', end='\\n\\n')\n",
        "    print('Next word predicted:\\n', *idx2char[sampled_indices], sep='', end='\\n\\n')\n",
        "    print('Loss:', loss(target_seq, pred_seq).numpy().mean())"
      ],
      "execution_count": 0,
      "outputs": []
    },
    {
      "cell_type": "code",
      "metadata": {
        "id": "VuBPldo9KYG4",
        "colab_type": "code",
        "colab": {}
      },
      "source": [
        "def config_checkpoints(prefix='RNN'):\n",
        "  checkpoint_dir = './{}_training_checkpoints'.format(prefix)\n",
        "  checkpoint_prefix = os.path.join(checkpoint_dir, \"ckpt_{epoch}\")\n",
        "  checkpoint_callback = tf.keras.callbacks.ModelCheckpoint(filepath=checkpoint_prefix, save_weights_only=True)\n",
        "  return checkpoint_dir, checkpoint_callback"
      ],
      "execution_count": 0,
      "outputs": []
    },
    {
      "cell_type": "markdown",
      "metadata": {
        "id": "mlodVB4vDAq-",
        "colab_type": "text"
      },
      "source": [
        "Generate text from the newly created RNN"
      ]
    },
    {
      "cell_type": "code",
      "metadata": {
        "id": "lZ8LLUQdDKuC",
        "colab_type": "code",
        "outputId": "de52d33b-eb9c-4508-daa5-6b61ccc73231",
        "colab": {
          "base_uri": "https://localhost:8080/",
          "height": 238
        }
      },
      "source": [
        "generate_sample(rnn_model)"
      ],
      "execution_count": 14,
      "outputs": [
        {
          "output_type": "stream",
          "text": [
            "Prediction shape: (64, 50, 57)\n",
            "--- Sample ---\n",
            "\n",
            "Input seq:\n",
            "ted to meet in the Columbian Room .\n",
            "Except for Clu\n",
            "\n",
            "Next word predicted:\n",
            "=qMszcIwchqtaORduS.h\n",
            "Z\n",
            "WvmONrEpehydJToHxcKHGMuVSfu\n",
            "\n",
            "Loss: 4.0453234\n"
          ],
          "name": "stdout"
        }
      ]
    },
    {
      "cell_type": "markdown",
      "metadata": {
        "id": "hvvCqeahKvKs",
        "colab_type": "text"
      },
      "source": [
        "Train and save checkpoints"
      ]
    },
    {
      "cell_type": "code",
      "metadata": {
        "id": "2laTbmp9_M93",
        "colab_type": "code",
        "outputId": "8bce5b8f-9754-49e0-d8ee-901ff8de7fb6",
        "colab": {
          "base_uri": "https://localhost:8080/",
          "height": 136
        }
      },
      "source": [
        "rnn_cpdir, rnn_cpcb = config_checkpoints(prefix='RNN')\n",
        "rnn_model.fit(batch_data, epochs=3, callbacks=[rnn_cpcb])"
      ],
      "execution_count": 15,
      "outputs": [
        {
          "output_type": "stream",
          "text": [
            "Epoch 1/3\n",
            "3143/3143 [==============================] - 146s 46ms/step - loss: 1.7210\n",
            "Epoch 2/3\n",
            "3143/3143 [==============================] - 138s 44ms/step - loss: 1.4501\n",
            "Epoch 3/3\n",
            "3143/3143 [==============================] - 140s 44ms/step - loss: 1.4082\n"
          ],
          "name": "stdout"
        },
        {
          "output_type": "execute_result",
          "data": {
            "text/plain": [
              "<tensorflow.python.keras.callbacks.History at 0x7f7c8d97c828>"
            ]
          },
          "metadata": {
            "tags": []
          },
          "execution_count": 15
        }
      ]
    },
    {
      "cell_type": "markdown",
      "metadata": {
        "id": "_BOJubdhDqUw",
        "colab_type": "text"
      },
      "source": [
        "## Predict with RNN LM"
      ]
    },
    {
      "cell_type": "code",
      "metadata": {
        "id": "bHou2zmFwLdI",
        "colab_type": "code",
        "colab": {}
      },
      "source": [
        "def generate_text(model, start_string, num_characters=1000):\n",
        "  \"\"\"\n",
        "  Generate a paragraph of length `num_characters` given a few input words\n",
        "  \"\"\"\n",
        "  text_generated = []\n",
        "  \n",
        "  # Vectorize starting string\n",
        "  input_seq = tf.expand_dims([char2idx[char] for char in start_string], 0)\n",
        "\n",
        "  model.reset_states()    # Restart states\n",
        "  temperature = 0.5       # Temperature of softmax during sampling\n",
        "                          # Lower: more predictable; Higher: more unexpected\n",
        "\n",
        "  for i in range(num_characters):\n",
        "    next_char = model(input_seq)\n",
        "    next_char = tf.squeeze(next_char, 0) / temperature\n",
        "    next_char_id = tf.random.categorical(next_char, num_samples=1)[-1, 0].numpy()\n",
        "\n",
        "    input_seq = tf.expand_dims([next_char_id], 0)\n",
        "    text_generated.append(idx2char[next_char_id])\n",
        "  \n",
        "  return start_string + ''.join(text_generated)"
      ],
      "execution_count": 0,
      "outputs": []
    },
    {
      "cell_type": "code",
      "metadata": {
        "id": "AXJaRYZAK3rq",
        "colab_type": "code",
        "colab": {}
      },
      "source": [
        "def rebuild_model(checkpoint_dir, hidden_layer='RNN'):\n",
        "  \"\"\"\n",
        "  Load weights from latest checkpoints for prediction\n",
        "  \"\"\"\n",
        "  tf.train.latest_checkpoint(checkpoint_dir)\n",
        "\n",
        "  # Rebuild model\n",
        "  model = build_model(batch_size=1, hidden_layer=hidden_layer)\n",
        "  model.load_weights(tf.train.latest_checkpoint(checkpoint_dir))\n",
        "  model.build(tf.TensorShape([1, None]))\n",
        "\n",
        "  return model"
      ],
      "execution_count": 0,
      "outputs": []
    },
    {
      "cell_type": "markdown",
      "metadata": {
        "id": "Z0g_o_v9Da_v",
        "colab_type": "text"
      },
      "source": [
        "Rebuild RNN LM which accepts an input vector"
      ]
    },
    {
      "cell_type": "code",
      "metadata": {
        "id": "zy1yTGBqCMdj",
        "colab_type": "code",
        "outputId": "ad8b7965-3dcf-40da-85d1-8938ebe2bd8c",
        "colab": {
          "base_uri": "https://localhost:8080/",
          "height": 255
        }
      },
      "source": [
        "rnn_model = rebuild_model(checkpoint_dir=rnn_cpdir, hidden_layer='RNN')\n",
        "rnn_model.summary()"
      ],
      "execution_count": 18,
      "outputs": [
        {
          "output_type": "stream",
          "text": [
            "Model: \"sequential_1\"\n",
            "_________________________________________________________________\n",
            "Layer (type)                 Output Shape              Param #   \n",
            "=================================================================\n",
            "embedding_1 (Embedding)      (1, None, 256)            14592     \n",
            "_________________________________________________________________\n",
            "simple_rnn_1 (SimpleRNN)     (1, None, 1024)           1311744   \n",
            "_________________________________________________________________\n",
            "dense_1 (Dense)              (1, None, 57)             58425     \n",
            "=================================================================\n",
            "Total params: 1,384,761\n",
            "Trainable params: 1,384,761\n",
            "Non-trainable params: 0\n",
            "_________________________________________________________________\n"
          ],
          "name": "stdout"
        }
      ]
    },
    {
      "cell_type": "code",
      "metadata": {
        "id": "e3ELIzmhKDB7",
        "colab_type": "code",
        "outputId": "ba245159-7e30-41ce-eee4-e94dee50ba98",
        "colab": {
          "base_uri": "https://localhost:8080/",
          "height": 105
        }
      },
      "source": [
        "print(generate_text(rnn_model, '= = Music =', num_characters=200))"
      ],
      "execution_count": 19,
      "outputs": [
        {
          "output_type": "stream",
          "text": [
            "= = Music = =\n",
            "\n",
            "\n",
            "= = Hand , and the can be responsibility in the construction , which is a players and the comparison , as the concerns that were ordered the three species of the later special in the star concern\n"
          ],
          "name": "stdout"
        }
      ]
    },
    {
      "cell_type": "markdown",
      "metadata": {
        "id": "gx9L5IMxwXwm",
        "colab_type": "text"
      },
      "source": [
        "## Improvements"
      ]
    },
    {
      "cell_type": "markdown",
      "metadata": {
        "id": "Idu2wNdzwaKQ",
        "colab_type": "text"
      },
      "source": [
        "### LSTM"
      ]
    },
    {
      "cell_type": "code",
      "metadata": {
        "id": "mKziuWAxwgSm",
        "colab_type": "code",
        "outputId": "bef3e85f-a080-4ef4-a408-7ea262cf6ab9",
        "colab": {
          "base_uri": "https://localhost:8080/",
          "height": 442
        }
      },
      "source": [
        "lstm_model = build_model(batch_size=BATCH_SIZE, hidden_layer='LSTM')\n",
        "generate_sample(lstm_model)\n",
        "lstm_model.summary()"
      ],
      "execution_count": 20,
      "outputs": [
        {
          "output_type": "stream",
          "text": [
            "Prediction shape: (64, 50, 57)\n",
            "--- Sample ---\n",
            "\n",
            "Input seq:\n",
            "ted to meet in the Columbian Room .\n",
            "Except for Clu\n",
            "\n",
            "Next word predicted:\n",
            "OcH RVYmkWTrUkqTnVJiRjB R.afXqyXEZHZtmdoORDwfJpqsd\n",
            "\n",
            "Loss: 4.042598\n",
            "Model: \"sequential_2\"\n",
            "_________________________________________________________________\n",
            "Layer (type)                 Output Shape              Param #   \n",
            "=================================================================\n",
            "embedding_2 (Embedding)      (64, None, 256)           14592     \n",
            "_________________________________________________________________\n",
            "lstm (LSTM)                  (64, None, 1024)          5246976   \n",
            "_________________________________________________________________\n",
            "dense_2 (Dense)              (64, None, 57)            58425     \n",
            "=================================================================\n",
            "Total params: 5,319,993\n",
            "Trainable params: 5,319,993\n",
            "Non-trainable params: 0\n",
            "_________________________________________________________________\n"
          ],
          "name": "stdout"
        }
      ]
    },
    {
      "cell_type": "code",
      "metadata": {
        "id": "he2FajQ5xKXl",
        "colab_type": "code",
        "outputId": "2591bd8f-3b7e-43c4-b0ec-23315af1a9e5",
        "colab": {
          "base_uri": "https://localhost:8080/",
          "height": 190
        }
      },
      "source": [
        "lstm_cpdir, lstm_cpcb = config_checkpoints(prefix='LSTM')\n",
        "lstm_model.fit(batch_data, epochs=3, callbacks=[lstm_cpcb])\n",
        "lstm_model = rebuild_model(checkpoint_dir=lstm_cpdir, hidden_layer='LSTM')"
      ],
      "execution_count": 21,
      "outputs": [
        {
          "output_type": "stream",
          "text": [
            "Epoch 1/3\n",
            "WARNING:tensorflow:From /usr/local/lib/python3.6/dist-packages/tensorflow_core/python/ops/math_grad.py:1424: where (from tensorflow.python.ops.array_ops) is deprecated and will be removed in a future version.\n",
            "Instructions for updating:\n",
            "Use tf.where in 2.0, which has the same broadcast rule as np.where\n",
            "3143/3143 [==============================] - 477s 152ms/step - loss: 1.5745\n",
            "Epoch 2/3\n",
            "3143/3143 [==============================] - 477s 152ms/step - loss: 1.3188\n",
            "Epoch 3/3\n",
            "3143/3143 [==============================] - 460s 146ms/step - loss: 1.2650\n"
          ],
          "name": "stdout"
        }
      ]
    },
    {
      "cell_type": "code",
      "metadata": {
        "id": "keGKRe4x0yjW",
        "colab_type": "code",
        "colab": {
          "base_uri": "https://localhost:8080/",
          "height": 88
        },
        "outputId": "c2450ad8-872e-4d07-b47b-bf1868428414"
      },
      "source": [
        "print(generate_text(lstm_model, '= = Music = ', num_characters=200))"
      ],
      "execution_count": 22,
      "outputs": [
        {
          "output_type": "stream",
          "text": [
            "= = Music = = =\n",
            "\n",
            "Alkan Morhange stars have a member of the new road is a contemporary record of the spectral sequel . The spectrum began to take into many of the construction of the control of the trillion and pr\n"
          ],
          "name": "stdout"
        }
      ]
    },
    {
      "cell_type": "markdown",
      "metadata": {
        "id": "R6SC5NwcweOp",
        "colab_type": "text"
      },
      "source": [
        "### GRU"
      ]
    },
    {
      "cell_type": "code",
      "metadata": {
        "id": "45RPpZg1wZak",
        "colab_type": "code",
        "outputId": "fe95ba28-aaab-4924-ee4d-f6c3fbd5eda8",
        "colab": {
          "base_uri": "https://localhost:8080/",
          "height": 493
        }
      },
      "source": [
        "gru_model = build_model(batch_size=BATCH_SIZE, hidden_layer='GRU')\n",
        "generate_sample(gru_model)\n",
        "gru_model.summary()"
      ],
      "execution_count": 23,
      "outputs": [
        {
          "output_type": "stream",
          "text": [
            "Prediction shape: (64, 50, 57)\n",
            "--- Sample ---\n",
            "\n",
            "Input seq:\n",
            "ted to meet in the Columbian Room .\n",
            "Except for Clu\n",
            "\n",
            "Next word predicted:\n",
            "uSFWnT\n",
            "Gff=QxZIN\n",
            "PKoODWh vjGoQAEYmoucPTY\n",
            "eBSNvsRWI\n",
            "\n",
            "Loss: 4.041979\n",
            "Model: \"sequential_4\"\n",
            "_________________________________________________________________\n",
            "Layer (type)                 Output Shape              Param #   \n",
            "=================================================================\n",
            "embedding_4 (Embedding)      (64, None, 256)           14592     \n",
            "_________________________________________________________________\n",
            "gru (GRU)                    (64, None, 1024)          3935232   \n",
            "_________________________________________________________________\n",
            "dense_4 (Dense)              (64, None, 57)            58425     \n",
            "=================================================================\n",
            "Total params: 4,008,249\n",
            "Trainable params: 4,008,249\n",
            "Non-trainable params: 0\n",
            "_________________________________________________________________\n"
          ],
          "name": "stdout"
        }
      ]
    },
    {
      "cell_type": "code",
      "metadata": {
        "id": "MlxPcIkuAUXC",
        "colab_type": "code",
        "outputId": "d7c38d28-8318-4531-832b-528b8767d349",
        "colab": {
          "base_uri": "https://localhost:8080/",
          "height": 119
        }
      },
      "source": [
        "gru_cpdir, gru_cpcb = config_checkpoints('GRU')\n",
        "gru_model.fit(batch_data, epochs=3, callbacks=[gru_cpcb])\n",
        "gru_model = rebuild_model(checkpoint_dir=gru_cpdir, hidden_layer='GRU')"
      ],
      "execution_count": 24,
      "outputs": [
        {
          "output_type": "stream",
          "text": [
            "Epoch 1/3\n",
            "3143/3143 [==============================] - 370s 118ms/step - loss: 1.5999\n",
            "Epoch 2/3\n",
            "3143/3143 [==============================] - 376s 120ms/step - loss: 1.3381\n",
            "Epoch 3/3\n",
            "3143/3143 [==============================] - 388s 123ms/step - loss: 1.2965\n"
          ],
          "name": "stdout"
        }
      ]
    },
    {
      "cell_type": "code",
      "metadata": {
        "id": "MPcWioUm09P6",
        "colab_type": "code",
        "colab": {
          "base_uri": "https://localhost:8080/",
          "height": 88
        },
        "outputId": "a3da2fa5-b7c8-46d9-e50d-8208696945fe"
      },
      "source": [
        "print(generate_text(gru_model, '= = Music = ', num_characters=200))"
      ],
      "execution_count": 25,
      "outputs": [
        {
          "output_type": "stream",
          "text": [
            "= = Music = =\n",
            "\n",
            "A units of the star and the side of the art show , and approximately manuscripts , and stars are also important , and the any of the most exploration of knowledge of the first time of the songs to \n"
          ],
          "name": "stdout"
        }
      ]
    }
  ]
}