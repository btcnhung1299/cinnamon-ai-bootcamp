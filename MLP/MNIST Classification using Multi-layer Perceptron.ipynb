{
 "cells": [
  {
   "cell_type": "code",
   "execution_count": 1,
   "metadata": {},
   "outputs": [],
   "source": [
    "import numpy as np\n",
    "import matplotlib.pyplot as plt"
   ]
  },
  {
   "cell_type": "markdown",
   "metadata": {},
   "source": [
    "## Forward Propagation"
   ]
  },
  {
   "cell_type": "markdown",
   "metadata": {},
   "source": [
    "### Network Architecture"
   ]
  },
  {
   "cell_type": "markdown",
   "metadata": {},
   "source": [
    "- Input layer\n",
    "- Number of hidden layers: $1$ with $n$ units\n",
    "    + Activation function: sigmoid\n",
    "- Output layer: $10$ units\n",
    "    + Activation function: softmax"
   ]
  },
  {
   "cell_type": "markdown",
   "metadata": {},
   "source": [
    "### Activation Function"
   ]
  },
  {
   "cell_type": "markdown",
   "metadata": {},
   "source": [
    "For the one and only hidden layer, we use <b>sigmoid function</b> as the activation function. Sigmoid function is defined by the formula:\n",
    "\n",
    "$$f(z_i) = \\frac{1}{1 + e^{-z_i}}$$\n",
    "\n",
    "where $z_i$ is a <b>linear transformation</b> for class $i (1 \\leq i \\leq D^f)$\n",
    "\n",
    "!!!! $$\\mathbf{Z} = \\mathbf{X} \\mathbf{W^T} + \\mathbf{b}$$"
   ]
  },
  {
   "cell_type": "code",
   "execution_count": 2,
   "metadata": {},
   "outputs": [],
   "source": [
    "def linear_forward(X, W, b):\n",
    "    Z = np.dot(X, W.T) + b\n",
    "    return Z"
   ]
  },
  {
   "cell_type": "code",
   "execution_count": 3,
   "metadata": {},
   "outputs": [],
   "source": [
    "def sigmoid(Z):\n",
    "    A = 1. / (1 + np.exp(-Z))\n",
    "    return A"
   ]
  },
  {
   "cell_type": "markdown",
   "metadata": {},
   "source": [
    "To obtain the probabilities for each class in output layer, <b>softmax function</b> is applied as\n",
    "\n",
    "$$f(z_i) = \\frac{e^{z_i}}{\\sum_{i = 1}^{D^f}e^{z_i}}$$"
   ]
  },
  {
   "cell_type": "code",
   "execution_count": 4,
   "metadata": {},
   "outputs": [],
   "source": [
    "def softmax(Z):\n",
    "    A = np.exp(Z - Z.max())\n",
    "    A = A / np.sum(A, axis=1, keepdims=True)\n",
    "    return A"
   ]
  },
  {
   "cell_type": "markdown",
   "metadata": {},
   "source": [
    "### Weights Initialisation"
   ]
  },
  {
   "cell_type": "markdown",
   "metadata": {},
   "source": [
    "Random assignment is utilized to initialize weight matrices with small values ranging from -0.5 to 0.5 ($\\alpha = 0.5$) while we use bias = 0 for all layers."
   ]
  },
  {
   "cell_type": "code",
   "execution_count": 5,
   "metadata": {},
   "outputs": [],
   "source": [
    "def init_params(num_layers, layer_dims, alpha=0.5, random_state=None):\n",
    "    np.random.seed(random_state)\n",
    "    W = [None] * num_layers\n",
    "    b = [None] * num_layers\n",
    "    diff_W = [None] * num_layers\n",
    "    diff_b = [None] * num_layers\n",
    "    \n",
    "    for i in range(1, num_layers):\n",
    "        W[i] = np.random.rand(layer_dims[i], layer_dims[i - 1]) - alpha\n",
    "        b[i] = np.zeros((1, layer_dims[i]))\n",
    "        diff_W[i] = np.zeros((layer_dims[i], layer_dims[i - 1]))\n",
    "        diff_b[i] = np.zeros((1, layer_dims[i]))\n",
    "        \n",
    "    return W, diff_W, b, diff_b "
   ]
  },
  {
   "cell_type": "markdown",
   "metadata": {},
   "source": [
    "### Implemation"
   ]
  },
  {
   "cell_type": "code",
   "execution_count": 6,
   "metadata": {},
   "outputs": [],
   "source": [
    "def forward_propagation(num_layers, X, W, b):\n",
    "    A = [None] * num_layers\n",
    "    Z = [None] * num_layers\n",
    "    A[0] = X\n",
    "    \n",
    "    # Input and hidden layers\n",
    "    i = 1\n",
    "    while i < num_layers - 1:\n",
    "        Z[i] = linear_forward(A[i - 1], W[i], b[i])\n",
    "        A[i] = sigmoid(Z[i])\n",
    "        i += 1\n",
    "    \n",
    "    # Output layer\n",
    "    Z[i] = linear_forward(A[i - 1], W[i], b[i])\n",
    "    A[i] = softmax(Z[i])\n",
    "    \n",
    "    return A, Z"
   ]
  },
  {
   "cell_type": "markdown",
   "metadata": {},
   "source": [
    "## Loss Function"
   ]
  },
  {
   "cell_type": "markdown",
   "metadata": {},
   "source": [
    "Let $\\mathbf{t}$ be a vector of target labels and $\\mathbf{y}$ be a vector of predicted label of the current model. Dissimilarity between $\\mathbf{t}$ and $\\mathbf{y}$ is measured by <b>cross entropy</b>, which is\n",
    "\n",
    "$$\\mathbf{L}(\\mathbf{y}, \\mathbf{t}) = -\\sum_{i = 1}^{D^f}{t_i \\log y_i}$$\n"
   ]
  },
  {
   "cell_type": "code",
   "execution_count": 7,
   "metadata": {},
   "outputs": [],
   "source": [
    "def compute_cost(t, y):\n",
    "    cost = np.sum(np.multiply(np.log(y), t) + np.multiply(np.log(1 - y), t), axis=1)\n",
    "    return -np.mean(cost)"
   ]
  },
  {
   "cell_type": "markdown",
   "metadata": {},
   "source": [
    "## Back Propagation"
   ]
  },
  {
   "cell_type": "markdown",
   "metadata": {},
   "source": [
    "### Gradient Descent"
   ]
  },
  {
   "cell_type": "markdown",
   "metadata": {},
   "source": [
    "To optimize weight $\\theta$ used in the current model such that minimizes the loss function, which is the ultimate goal of learning for neural network, we use <b>gradient descent</b>. The algorithm works by repeated iterative throught two steps:\n",
    "\n",
    "- Compute $\\theta_{new} = \\theta - \\eta \\nabla_{\\theta} \\mathbf{L} + \\gamma \\times (\\theta - \\theta_{old})$\n",
    "\n",
    "- Update $\\theta$ and get new $\\mathbf{y}$\n",
    "\n",
    "\n",
    "Derivatives are utilized in gradient descent in order to detect which one causes the most error and change parameters in that direction."
   ]
  },
  {
   "cell_type": "code",
   "execution_count": 8,
   "metadata": {},
   "outputs": [],
   "source": [
    "def error(y, A):\n",
    "    return (A - y) / y.shape[0]"
   ]
  },
  {
   "cell_type": "markdown",
   "metadata": {},
   "source": [
    "- Derivative of sigmoid function:\n",
    "\n",
    "$$\\frac{\\delta f(z_i)}{\\delta z_i} = \\delta z_i \\times f(z_i) \\times (1 - f(z_i))$$"
   ]
  },
  {
   "cell_type": "code",
   "execution_count": 9,
   "metadata": {},
   "outputs": [],
   "source": [
    "def sigmoid_gradient(dA, A):\n",
    "    dZ = dA * A * (1 - A)\n",
    "    return dZ"
   ]
  },
  {
   "cell_type": "markdown",
   "metadata": {},
   "source": [
    "- Derivative of weights and biases"
   ]
  },
  {
   "cell_type": "code",
   "execution_count": 10,
   "metadata": {},
   "outputs": [],
   "source": [
    "def gradient(dZ, A):\n",
    "    dW = np.dot(dZ.T, A)\n",
    "    db = np.sum(dZ, axis=0, keepdims=True)\n",
    "    return dW, db"
   ]
  },
  {
   "cell_type": "markdown",
   "metadata": {},
   "source": [
    "- Reverse Linear Transformation"
   ]
  },
  {
   "cell_type": "code",
   "execution_count": 11,
   "metadata": {},
   "outputs": [],
   "source": [
    "def linear_backward(dZ, W):\n",
    "    return np.dot(dZ, W)"
   ]
  },
  {
   "cell_type": "markdown",
   "metadata": {},
   "source": [
    "### Parameter Update"
   ]
  },
  {
   "cell_type": "code",
   "execution_count": 12,
   "metadata": {},
   "outputs": [],
   "source": [
    "def update_params(num_layers, learning_rate, momentum_factor, W, dW, diff_W, b, db, diff_b):\n",
    "    for i in range(1, num_layers):\n",
    "        new_W = W[i] - learning_rate * dW[i] + momentum_factor * diff_W[i]\n",
    "        diff_W[i] = new_W - W[i]\n",
    "        W[i] = new_W\n",
    "        \n",
    "        new_b = b[i] - learning_rate * db[i] + momentum_factor * diff_b[i]\n",
    "        diff_b[i] = new_b - b[i]\n",
    "        b[i] = new_b\n",
    "        \n",
    "    return W, diff_W, b, diff_b"
   ]
  },
  {
   "cell_type": "markdown",
   "metadata": {},
   "source": [
    "### Implementation"
   ]
  },
  {
   "cell_type": "code",
   "execution_count": 13,
   "metadata": {},
   "outputs": [],
   "source": [
    "def backward_propagation(num_layers, y, W, A, Z):\n",
    "    dA = [None] * num_layers\n",
    "    dZ = [None] * num_layers\n",
    "    dW = [None] * num_layers\n",
    "    db = [None] * num_layers\n",
    "    \n",
    "    # Gradient descent on output layer\n",
    "    i = num_layers - 1\n",
    "    dZ[i] = error(y, A[i])\n",
    "    dW[i], db[i] = gradient(dZ[i], A[i - 1])\n",
    "    i -= 1\n",
    "    \n",
    "    # Gradient descent on hidden layers\n",
    "    while i > 0:\n",
    "        dA[i] = linear_backward(dZ[i + 1], W[i + 1])\n",
    "        dZ[i] = sigmoid_gradient(dA[i], A[i])\n",
    "        dW[i], db[i] = gradient(dZ[i], A[i - 1])\n",
    "        i -= 1\n",
    "        \n",
    "    return dW, db"
   ]
  },
  {
   "cell_type": "markdown",
   "metadata": {},
   "source": [
    "## Neural Network"
   ]
  },
  {
   "cell_type": "markdown",
   "metadata": {},
   "source": [
    "### Implementation"
   ]
  },
  {
   "cell_type": "code",
   "execution_count": 14,
   "metadata": {},
   "outputs": [],
   "source": [
    "def simple_mlp(X, y, num_units,\n",
    "               learning_rate=0.01, momentum_factor=0.9,\n",
    "               num_epochs=1, return_cost=True, random_state=None):\n",
    "    \n",
    "    input_dim, num_classes = X.shape[1], y.shape[1]\n",
    "    layer_dims = [input_dim, num_units, num_classes]\n",
    "    num_layers = len(layer_dims)\n",
    "\n",
    "    W, diff_W, b, diff_b = init_params(num_layers, layer_dims, 0.5, random_state)\n",
    "    costs = []\n",
    "    epochs = []\n",
    "    \n",
    "    for i in range(num_epochs):\n",
    "        A, Z = forward_propagation(num_layers, X, W, b)\n",
    "        cost = compute_cost(y, A[num_layers - 1])\n",
    "        dW, db = backward_propagation(num_layers, y, W, A, Z)\n",
    "        W, diff_W, b, diff_b = update_params(num_layers, learning_rate, momentum_factor,\n",
    "                                             W, diff_W, dW, b, db, diff_b)\n",
    "\n",
    "        if i % 10 == 0:\n",
    "            costs.append(cost)\n",
    "            epochs.append(i + 1)\n",
    "    \n",
    "    res = (W, b, costs, epochs) if return_cost else (W, b)\n",
    "    return res"
   ]
  },
  {
   "cell_type": "markdown",
   "metadata": {},
   "source": [
    "### Experiments"
   ]
  },
  {
   "cell_type": "code",
   "execution_count": 15,
   "metadata": {},
   "outputs": [
    {
     "name": "stdout",
     "output_type": "stream",
     "text": [
      "(42000, 784) (42000,)\n"
     ]
    }
   ],
   "source": [
    "import pandas as pd\n",
    "data = pd.read_csv('./mnist/train.csv')\n",
    "X, y = data.drop(columns='label').values, data['label'].values\n",
    "print(X.shape, y.shape)"
   ]
  },
  {
   "cell_type": "markdown",
   "metadata": {},
   "source": [
    "<b>Preprocessing</b>:\n",
    "\n",
    "- $X$: Pixel intensity values are firstly normalized to fall between 0 and 1 by dividing to maximum value of $X$.\n",
    "\n",
    "- $y$: One-hot encoding target vector to $N \\times D_f$ matrix, where $N$ is the number of samples and $D_f$ is the number of classes."
   ]
  },
  {
   "cell_type": "code",
   "execution_count": 16,
   "metadata": {},
   "outputs": [
    {
     "name": "stdout",
     "output_type": "stream",
     "text": [
      "(42000, 784) (42000, 10)\n"
     ]
    }
   ],
   "source": [
    "# Preprocessing on X \n",
    "X = (X / X.max())\n",
    "\n",
    "# Preprocessing on y\n",
    "y = np.eye(y.max() - y.min() + 1)[y]\n",
    "\n",
    "# Shape of the data after preprocessing\n",
    "print(X.shape, y.shape)"
   ]
  },
  {
   "cell_type": "markdown",
   "metadata": {},
   "source": [
    "<b>Split data to train and test set</b> with ratio 8:2"
   ]
  },
  {
   "cell_type": "code",
   "execution_count": 17,
   "metadata": {},
   "outputs": [],
   "source": [
    "from sklearn.model_selection import train_test_split\n",
    "X_train, X_test, y_train, y_test = train_test_split(X, y, test_size=0.2, random_state=12)"
   ]
  },
  {
   "cell_type": "markdown",
   "metadata": {},
   "source": [
    "### Training"
   ]
  },
  {
   "cell_type": "markdown",
   "metadata": {},
   "source": [
    "<b>Experiment with different hidden dimension:</b> 20, 50, 100"
   ]
  },
  {
   "cell_type": "code",
   "execution_count": 18,
   "metadata": {},
   "outputs": [],
   "source": [
    "W, b, costs_20_units, epochs = simple_mlp(X_train, y_train, num_units=20, momentum_factor=0.0, num_epochs=100)\n",
    "W, b, costs_50_units, epochs = simple_mlp(X_train, y_train, num_units=50, momentum_factor=0.0, num_epochs=100)\n",
    "W, b, costs_100_units, epochs = simple_mlp(X_train, y_train, num_units=100, momentum_factor=0.0, num_epochs=100)"
   ]
  },
  {
   "cell_type": "code",
   "execution_count": 19,
   "metadata": {},
   "outputs": [],
   "source": [
    "def plot_cost_curve(costs, epochs, label, new_fig=False):\n",
    "    plt.plot(epochs, costs, label=label)\n",
    "    plt.xlabel('Epochs')\n",
    "    plt.ylabel('Costs')\n",
    "    plt.legend()\n",
    "    \n",
    "    if new_fig:\n",
    "        plt.show()"
   ]
  },
  {
   "cell_type": "code",
   "execution_count": 20,
   "metadata": {},
   "outputs": [
    {
     "data": {
      "image/png": "[encoded data removed]",
      "text/plain": [
       "<Figure size 432x288 with 1 Axes>"
      ]
     },
     "metadata": {
      "needs_background": "light"
     },
     "output_type": "display_data"
    }
   ],
   "source": [
    "plot_cost_curve(costs_20_units, epochs, '20 units')\n",
    "plot_cost_curve(costs_50_units, epochs, '50 units')\n",
    "plot_cost_curve(costs_100_units, epochs, '100 units')\n",
    "plt.savefig('different_hidden_units.png');"
   ]
  },
  {
   "cell_type": "markdown",
   "metadata": {},
   "source": [
    "<b>Experiment with different epochs:</b> 20, 50, 100"
   ]
  },
  {
   "cell_type": "code",
   "execution_count": 21,
   "metadata": {},
   "outputs": [],
   "source": [
    "W, b, costs_20_epochs, epochs_20 = simple_mlp(X_train, y_train, num_units=20, momentum_factor=0.0, num_epochs=20)\n",
    "W, b, costs_50_epochs, epochs_50 = simple_mlp(X_train, y_train, num_units=20, momentum_factor=0.0, num_epochs=50)\n",
    "W, b, costs_100_epochs, epochs_100 = simple_mlp(X_train, y_train, num_units=20, momentum_factor=0.0, num_epochs=100)"
   ]
  },
  {
   "cell_type": "code",
   "execution_count": 22,
   "metadata": {},
   "outputs": [
    {
     "data": {
      "image/png": "[encoded data removed]",
      "text/plain": [
       "<Figure size 432x288 with 1 Axes>"
      ]
     },
     "metadata": {
      "needs_background": "light"
     },
     "output_type": "display_data"
    }
   ],
   "source": [
    "plot_cost_curve(costs_20_epochs, epochs_20, '20 epochs')\n",
    "plot_cost_curve(costs_50_epochs, epochs_50, '50 epochs')\n",
    "plot_cost_curve(costs_100_epochs, epochs_100, '100 epochs')\n",
    "plt.savefig('different_epochs.png');"
   ]
  },
  {
   "cell_type": "markdown",
   "metadata": {},
   "source": [
    "<b>Experiment with different scaling factor:</b> 0-to-1, 0-to-255"
   ]
  },
  {
   "cell_type": "code",
   "execution_count": 23,
   "metadata": {},
   "outputs": [
    {
     "name": "stderr",
     "output_type": "stream",
     "text": [
      "/usr/local/lib/python3.7/dist-packages/ipykernel_launcher.py:2: RuntimeWarning: overflow encountered in exp\n",
      "  \n"
     ]
    }
   ],
   "source": [
    "W, b, costs_01_scale, epochs = simple_mlp(X_train, y_train, num_units=20, momentum_factor=0.0, num_epochs=100)\n",
    "W, b, costs_0255_scale, epochs = simple_mlp(X_train * 255, y_train, num_units=20, momentum_factor=0.0, num_epochs=100)"
   ]
  },
  {
   "cell_type": "code",
   "execution_count": 24,
   "metadata": {},
   "outputs": [
    {
     "data": {
      "image/png": "[encoded data removed]",
      "text/plain": [
       "<Figure size 432x288 with 1 Axes>"
      ]
     },
     "metadata": {
      "needs_background": "light"
     },
     "output_type": "display_data"
    }
   ],
   "source": [
    "plot_cost_curve(costs_01_scale, epochs, '0-to-1 scaling input')\n",
    "plot_cost_curve(costs_0255_scale, epochs, '0-to-255 scaling input')\n",
    "plt.savefig('different_scaling_factor.png');"
   ]
  },
  {
   "cell_type": "markdown",
   "metadata": {},
   "source": [
    "<b>Experiment with different learning rate:</b> 0.1, 0.01, 0.001"
   ]
  },
  {
   "cell_type": "code",
   "execution_count": 25,
   "metadata": {},
   "outputs": [],
   "source": [
    "W, b, costs_01_lr, epochs = simple_mlp(X_train, y_train, num_units=20, learning_rate=0.1, momentum_factor=0.0, num_epochs=100)\n",
    "W, b, costs_001_lr, epochs = simple_mlp(X_train, y_train, num_units=20, learning_rate=0.01, momentum_factor=0.0, num_epochs=100)\n",
    "W, b, costs_0001_lr, epochs = simple_mlp(X_train, y_train, num_units=20, learning_rate=0.001, momentum_factor=0.0, num_epochs=100)"
   ]
  },
  {
   "cell_type": "code",
   "execution_count": 26,
   "metadata": {},
   "outputs": [
    {
     "data": {
      "image/png": "[encoded data removed]",
      "text/plain": [
       "<Figure size 432x288 with 1 Axes>"
      ]
     },
     "metadata": {
      "needs_background": "light"
     },
     "output_type": "display_data"
    }
   ],
   "source": [
    "plot_cost_curve(costs_01_lr, epochs, '0.1 learning rate')\n",
    "plot_cost_curve(costs_001_lr, epochs, '0.01 learning rate')\n",
    "plot_cost_curve(costs_0001_lr, epochs, '0.001 learning rate')\n",
    "plt.savefig('different_learning_rate.png');"
   ]
  },
  {
   "cell_type": "code",
   "execution_count": null,
   "metadata": {},
   "outputs": [],
   "source": []
  }
 ],
 "metadata": {
  "kernelspec": {
   "display_name": "Python 3",
   "language": "python",
   "name": "python3"
  },
  "language_info": {
   "codemirror_mode": {
    "name": "ipython",
    "version": 3
   },
   "file_extension": ".py",
   "mimetype": "text/x-python",
   "name": "python",
   "nbconvert_exporter": "python",
   "pygments_lexer": "ipython3",
   "version": "3.7.3"
  }
 },
 "nbformat": 4,
 "nbformat_minor": 4
}
